{
 "cells": [
  {
   "cell_type": "code",
   "execution_count": 9,
   "id": "c2600c55-615a-4204-9b1e-1eeccb8dc579",
   "metadata": {},
   "outputs": [
    {
     "name": "stdout",
     "output_type": "stream",
     "text": [
      "1\n",
      "2\n",
      "3\n",
      "4\n",
      "5\n",
      "6\n",
      "7\n",
      "8\n",
      "9\n",
      "10\n"
     ]
    }
   ],
   "source": [
    "#1.\n",
    "\n",
    "for i in range(1,11):\n",
    "    print(i)\n"
   ]
  },
  {
   "cell_type": "code",
   "execution_count": 23,
   "id": "68cf2113-c495-4f54-85b5-562693aed8fa",
   "metadata": {},
   "outputs": [
    {
     "name": "stdout",
     "output_type": "stream",
     "text": [
      "10\n"
     ]
    }
   ],
   "source": [
    "#2.\n",
    "\n",
    "def sun(lst):\n",
    "    summ  = 0\n",
    "    for i in lst:\n",
    "        summ+=i\n",
    "    return summ\n",
    "         \n",
    "\n",
    "lst = [1,2,3,4]\n",
    "print(sun(lst))"
   ]
  },
  {
   "cell_type": "code",
   "execution_count": 170,
   "id": "a2a472b8-679a-4cea-a564-9c14fe55d43e",
   "metadata": {},
   "outputs": [
    {
     "name": "stdout",
     "output_type": "stream",
     "text": [
      "o\n",
      "l\n",
      "l\n",
      "e\n",
      "h\n"
     ]
    }
   ],
   "source": [
    "#3.\n",
    "\n",
    "def rev(st):\n",
    "    for i in reversed(st):\n",
    "        print(i)\n",
    "\n",
    "st = \"hello\"\n",
    "(rev(st))"
   ]
  },
  {
   "cell_type": "code",
   "execution_count": 108,
   "id": "82569648-3e04-410f-97d7-f71a4722976f",
   "metadata": {},
   "outputs": [
    {
     "name": "stdout",
     "output_type": "stream",
     "text": [
      "120\n"
     ]
    }
   ],
   "source": [
    "#4.\n",
    "\n",
    "def fact(n):\n",
    "    result = 1\n",
    "    for i in range(1,n+1):\n",
    "        result*=i\n",
    "    return result\n",
    "\n",
    "n = 5\n",
    "print(fact(5))"
   ]
  },
  {
   "cell_type": "code",
   "execution_count": 116,
   "id": "5249aec3-3964-4c9a-ad4f-a0d9b68f779d",
   "metadata": {},
   "outputs": [
    {
     "name": "stdout",
     "output_type": "stream",
     "text": [
      "3x1 = 3\n",
      "3x2 = 6\n",
      "3x3 = 9\n",
      "3x4 = 12\n",
      "3x5 = 15\n",
      "3x6 = 18\n",
      "3x7 = 21\n",
      "3x8 = 24\n",
      "3x9 = 27\n",
      "3x10 = 30\n",
      "10\n"
     ]
    }
   ],
   "source": [
    "#5.\n",
    "\n",
    "def tabl(n):\n",
    "    for i in range(1,11):\n",
    "        print(f'{n}x{i} = {i*n}')\n",
    "    return i\n",
    "\n",
    "n = 3\n",
    "print(tabl(n))"
   ]
  },
  {
   "cell_type": "code",
   "execution_count": 140,
   "id": "c2bd9bb3-056d-4907-a6dc-ab8a0e648030",
   "metadata": {},
   "outputs": [
    {
     "name": "stdout",
     "output_type": "stream",
     "text": [
      "\"even\" = 4,\"odd\" = 5\n"
     ]
    }
   ],
   "source": [
    "#6.\n",
    "\n",
    "def evod(lst):\n",
    "    even = 0\n",
    "    odd = 0\n",
    "    for i in lst:\n",
    "        if i%2==0:\n",
    "            even +=1\n",
    "        else:\n",
    "            odd+=1\n",
    "    return even,odd\n",
    "\n",
    "lst = [1,2,3,4,5,6,7,8,9]\n",
    "even_c,odd_c = evod(lst)\n",
    "print(f'\"even\" = {even_c},\"odd\" = {odd_c}')"
   ]
  },
  {
   "cell_type": "code",
   "execution_count": 178,
   "id": "8778faae-ce4f-4001-a970-16d35aecdb5e",
   "metadata": {},
   "outputs": [
    {
     "name": "stdout",
     "output_type": "stream",
     "text": [
      "square of 1 is 1\n",
      "square of 2 is 4\n",
      "square of 3 is 9\n",
      "square of 4 is 16\n",
      "square of 5 is 25\n"
     ]
    }
   ],
   "source": [
    "#7.\n",
    "\n",
    "def sr(n):\n",
    "    for i in range(1,n+1):\n",
    "        print(f'square of {i} is {i**2}')\n",
    "\n",
    "n=5\n",
    "(sr(n))"
   ]
  },
  {
   "cell_type": "code",
   "execution_count": 194,
   "id": "61a82cfd-23f6-49af-b8b7-d15f4b00037b",
   "metadata": {},
   "outputs": [
    {
     "name": "stdout",
     "output_type": "stream",
     "text": [
      "length of string is 6\n"
     ]
    }
   ],
   "source": [
    "#8.\n",
    "\n",
    "def lenn(s):\n",
    "    leng = 0\n",
    "    for i in s:\n",
    "        leng+=1\n",
    "    return (f'length of string is {leng}')\n",
    "\n",
    "s = \"Doolki\"\n",
    "print(lenn(s))\n"
   ]
  },
  {
   "cell_type": "code",
   "execution_count": 202,
   "id": "74c922fb-6075-49ba-b7f6-20681a6fc5f0",
   "metadata": {},
   "outputs": [
    {
     "name": "stdout",
     "output_type": "stream",
     "text": [
      "average of list is 3.5\n"
     ]
    }
   ],
   "source": [
    "#9.\n",
    "\n",
    "def avg(li):\n",
    "    leng = 0\n",
    "    total = 0\n",
    "    for i in li:\n",
    "        leng+=1\n",
    "        total+=i\n",
    "    return (f'average of list is {total/leng}')\n",
    "\n",
    "li = [1,2,3,4,5,6]\n",
    "print(avg(li))"
   ]
  },
  {
   "cell_type": "code",
   "execution_count": 218,
   "id": "8799b6a7-a2cd-47c8-bd52-924a8d6d1ec2",
   "metadata": {},
   "outputs": [
    {
     "name": "stdout",
     "output_type": "stream",
     "text": [
      "1\n",
      "2\n",
      "3\n",
      "5\n",
      "8\n",
      "13\n"
     ]
    }
   ],
   "source": [
    "#10.\n",
    "\n",
    "def fibb(n):\n",
    "    a,b = 1,2\n",
    "    for i in range(n):\n",
    "        print(a)\n",
    "        a,b=b,b+a\n",
    "\n",
    "n=6\n",
    "fibb(n)"
   ]
  },
  {
   "cell_type": "code",
   "execution_count": 11,
   "id": "38493f2b-42c9-445d-a8cf-edc90fe63494",
   "metadata": {},
   "outputs": [
    {
     "name": "stdout",
     "output_type": "stream",
     "text": [
      "not found\n"
     ]
    }
   ],
   "source": [
    "#11.\n",
    "def dupl(lst):\n",
    "    dk = set()\n",
    "    for i in lst:\n",
    "        if i in dk:\n",
    "            return True\n",
    "        dk.add(i)\n",
    "    return False\n",
    "\n",
    "lst = [1,2,3,4,5,6]\n",
    "if dupl(lst):\n",
    "    print(\"duplicate\")\n",
    "else:\n",
    "    print(\"not found\")\n"
   ]
  },
  {
   "cell_type": "code",
   "execution_count": 54,
   "id": "0028198c-d208-40a5-b6a2-038c471eb330",
   "metadata": {},
   "outputs": [
    {
     "name": "stdout",
     "output_type": "stream",
     "text": [
      "Prime numbers between 2 and 8:\n",
      "2 3 5 7 "
     ]
    },
    {
     "data": {
      "text/plain": [
       "True"
      ]
     },
     "execution_count": 54,
     "metadata": {},
     "output_type": "execute_result"
    }
   ],
   "source": [
    "#12.\n",
    "\n",
    "def is_prime(n):\n",
    "    if n<2:\n",
    "        return False\n",
    "    for i in range(2,int(n**0.5)+1):\n",
    "        if n%i==0:\n",
    "            return False\n",
    "    return True\n",
    "\n",
    "def print_primes(start, end):\n",
    "    print(f\"Prime numbers between {start} and {end}:\")\n",
    "    for num in range(start, end + 1):  \n",
    "        if is_prime(num):  \n",
    "            print(num, end=\" \")  \n",
    "\n",
    "\n",
    "start_range = 2\n",
    "end_range = 8\n",
    "print_primes(start_range, end_range)\n",
    "is_prime(n)"
   ]
  },
  {
   "cell_type": "code",
   "execution_count": 73,
   "id": "9c304c41-2e86-4c89-9306-903a3d21df73",
   "metadata": {},
   "outputs": [
    {
     "data": {
      "text/plain": [
       "5"
      ]
     },
     "execution_count": 73,
     "metadata": {},
     "output_type": "execute_result"
    }
   ],
   "source": [
    "#13.\n",
    "\n",
    "def vowel(st):\n",
    "    voww = \"aeiouAEIOU\"\n",
    "    count = 0\n",
    "    for i in st:\n",
    "        if i in voww:\n",
    "            count+=1\n",
    "    return count\n",
    "\n",
    "st = \"HelloooA\"\n",
    "vowel(st)\n"
   ]
  },
  {
   "cell_type": "code",
   "execution_count": null,
   "id": "21d49abb-d9ec-49e0-b75d-3aff9d5a8b96",
   "metadata": {},
   "outputs": [],
   "source": [
    "#14.\n",
    "\n"
   ]
  },
  {
   "cell_type": "code",
   "execution_count": 77,
   "id": "27e6f140-5ba6-49fd-9182-4aea20541f19",
   "metadata": {},
   "outputs": [
    {
     "name": "stdout",
     "output_type": "stream",
     "text": [
      "[1, 3, 4, 5, 6, 7, 8]\n"
     ]
    }
   ],
   "source": [
    "#15.\n",
    "\n",
    "def occ(lis,n):\n",
    "    resu = []\n",
    "    for i in lis:\n",
    "        if i != n:\n",
    "            resu.append(i)\n",
    "    return resu\n",
    "\n",
    "lis = [1,2,3,4,5,6,7,8]\n",
    "n = 2\n",
    "print(occ(lis,n))"
   ]
  },
  {
   "cell_type": "code",
   "execution_count": 141,
   "id": "39b0912a-1ce7-4296-b5a2-8d1e1158f047",
   "metadata": {},
   "outputs": [
    {
     "name": "stdout",
     "output_type": "stream",
     "text": [
      "2x1=2\t2x2=4\t2x3=6\t2x4=8\t2x5=10\t2x6=12\t2x7=14\t2x8=16\t2x9=18\t2x10=20\t\n",
      "3x1=3\t3x2=6\t3x3=9\t3x4=12\t3x5=15\t3x6=18\t3x7=21\t3x8=24\t3x9=27\t3x10=30\t\n",
      "4x1=4\t4x2=8\t4x3=12\t4x4=16\t4x5=20\t4x6=24\t4x7=28\t4x8=32\t4x9=36\t4x10=40\t\n",
      "5x1=5\t5x2=10\t5x3=15\t5x4=20\t5x5=25\t5x6=30\t5x7=35\t5x8=40\t5x9=45\t5x10=50\t\n",
      "6x1=6\t6x2=12\t6x3=18\t6x4=24\t6x5=30\t6x6=36\t6x7=42\t6x8=48\t6x9=54\t6x10=60\t\n"
     ]
    }
   ],
   "source": [
    "#16.\n",
    "def table():\n",
    "    for i in range(2,7):\n",
    "        for j in range(1,11):\n",
    "            print(f\"{i}x{j}={i*j}\",end=\"\\t\")\n",
    "        print()\n",
    "\n",
    "table()"
   ]
  },
  {
   "cell_type": "code",
   "execution_count": 183,
   "id": "ac32efeb-6426-4d24-b49d-3bb66d936120",
   "metadata": {},
   "outputs": [
    {
     "data": {
      "text/plain": [
       "[7.22, 12.78, 31.11]"
      ]
     },
     "execution_count": 183,
     "metadata": {},
     "output_type": "execute_result"
    }
   ],
   "source": [
    "#17.\n",
    "\n",
    "def ftc(lst):\n",
    "    cels = []\n",
    "    for i in lst:\n",
    "        c=(i - 32) * 5/9\n",
    "        cels.append(round(c,2))\n",
    "    return cels\n",
    "\n",
    "lst = [45,55,88]\n",
    "ftc(lst)"
   ]
  },
  {
   "cell_type": "code",
   "execution_count": 195,
   "id": "c80c2b26-13e3-4490-ac42-ae6b888646d2",
   "metadata": {},
   "outputs": [
    {
     "data": {
      "text/plain": [
       "[1, 6]"
      ]
     },
     "execution_count": 195,
     "metadata": {},
     "output_type": "execute_result"
    }
   ],
   "source": [
    "#18.\n",
    "\n",
    "def dupl(lst1,lst2):\n",
    "    duplic = []\n",
    "    for i in lst1:\n",
    "        if i in lst2 and i not in duplic:\n",
    "            duplic.append(i)\n",
    "    return duplic\n",
    "\n",
    "\n",
    "lst1 = [1,2,3,4,5,6]\n",
    "lst2 = [6,7,8,9,1]\n",
    "dupl(lst1,lst2)"
   ]
  },
  {
   "cell_type": "code",
   "execution_count": 215,
   "id": "b2dbaaf9-e656-4e62-bb06-f27372d860a3",
   "metadata": {},
   "outputs": [
    {
     "name": "stdout",
     "output_type": "stream",
     "text": [
      "x\n",
      "xx\n",
      "xxx\n",
      "xxxx\n",
      "xxxxx\n",
      "xxxxxx\n"
     ]
    }
   ],
   "source": [
    "#19.\n",
    "\n",
    "def star(n):\n",
    "    for i in range(1,n+1):\n",
    "        print(\"x\"*i)\n",
    "\n",
    "star(6)"
   ]
  },
  {
   "cell_type": "code",
   "execution_count": 217,
   "id": "a49afe48-1498-4291-b35a-fd8d8226d8e3",
   "metadata": {},
   "outputs": [
    {
     "name": "stdout",
     "output_type": "stream",
     "text": [
      "GCD of 36 and 48 is: 12\n"
     ]
    }
   ],
   "source": [
    "#20.\n",
    "\n",
    "def find_gcd(a, b):\n",
    "    gcd = 1 \n",
    "    \n",
    "    for i in range(1, min(a, b) + 1):  # Loop from 1 to the smaller number\n",
    "        if a % i == 0 and b % i == 0:  # Check if i is a divisor of both a and b\n",
    "            gcd = i  # Update GCD if a common divisor is found\n",
    "\n",
    "    return gcd  # Return the highest common divisor\n",
    "\n",
    "# Example usage\n",
    "num1 = 36\n",
    "num2 = 48\n",
    "\n",
    "print(\"GCD of\", num1, \"and\", num2, \"is:\", find_gcd(num1, num2))\n"
   ]
  },
  {
   "cell_type": "code",
   "execution_count": 233,
   "id": "605a41b9-75cc-4c9e-894d-29ebd77eceef",
   "metadata": {},
   "outputs": [
    {
     "data": {
      "text/plain": [
       "[6, 15, 24]"
      ]
     },
     "execution_count": 233,
     "metadata": {},
     "output_type": "execute_result"
    }
   ],
   "source": [
    "#21.\n",
    "\n",
    "def summ(lis):\n",
    "    return[sum(int(num) for num in str(i)) for i in lis]\n",
    "\n",
    "lis = [123,456,789]\n",
    "summ(lis)"
   ]
  },
  {
   "cell_type": "code",
   "execution_count": 237,
   "id": "20171bc0-3d00-41c1-86c6-77e3a4d6c503",
   "metadata": {},
   "outputs": [
    {
     "name": "stdout",
     "output_type": "stream",
     "text": [
      "Prime factors of 57 are: [3, 19]\n"
     ]
    }
   ],
   "source": [
    "#22.\n",
    "\n",
    "def prime_factors(n):\n",
    "    factors = []  \n",
    "    while n % 2 == 0:\n",
    "        factors.append(2)\n",
    "        n //= 2  \n",
    "\n",
    "    \n",
    "    for i in range(3, int(n**0.5) + 1, 2):  \n",
    "        while n % i == 0:\n",
    "            factors.append(i)\n",
    "            n //= i  \n",
    "\n",
    "    \n",
    "    if n > 2:\n",
    "        factors.append(n)\n",
    "\n",
    "    return factors  \n",
    "\n",
    "\n",
    "num = 57\n",
    "print(\"Prime factors of\", num, \"are:\", prime_factors(num))\n"
   ]
  },
  {
   "cell_type": "code",
   "execution_count": 245,
   "id": "87407003-afdf-4361-9fef-d21ea9a81122",
   "metadata": {},
   "outputs": [
    {
     "name": "stdout",
     "output_type": "stream",
     "text": [
      "[1, 2, 3, 4, 5, 5, 6, 7, 8, 9]\n"
     ]
    },
    {
     "data": {
      "text/plain": [
       "[1, 2, 3, 4, 6, 7, 8, 9]"
      ]
     },
     "execution_count": 245,
     "metadata": {},
     "output_type": "execute_result"
    }
   ],
   "source": [
    "#23.\n",
    "\n",
    "def unique_ele(lst):\n",
    "    return[i for i in lst if lst.count(i) == 1]\n",
    "\n",
    "lst = [1,2,3,4,5,5,6,7,8,9]\n",
    "print(lst)\n",
    "unique_ele(lst)"
   ]
  },
  {
   "cell_type": "code",
   "execution_count": 269,
   "id": "728d92cf-47e7-463e-8c15-49022017de13",
   "metadata": {},
   "outputs": [
    {
     "name": "stdout",
     "output_type": "stream",
     "text": [
      "[0, 1, 2, 3, 4, 5, 6, 7, 8, 9, 11, 22, 33, 44, 55, 66, 77, 88, 99, 101, 111, 121, 131, 141, 151, 161, 171, 181, 191]"
     ]
    }
   ],
   "source": [
    "#24.\n",
    "\n",
    "def pelind(n):\n",
    "    return[i for i in range(n+1) if str(i)==str(i)[::-1]]\n",
    "\n",
    "n = 200\n",
    "final=pelind(n)\n",
    "print(final,end=\"\")"
   ]
  },
  {
   "cell_type": "code",
   "execution_count": 275,
   "id": "fcf8f280-bcde-453f-9b20-42db801c9cbd",
   "metadata": {},
   "outputs": [
    {
     "data": {
      "text/plain": [
       "[1, 2, 3, 4, 5, 6, 7, 8, 9]"
      ]
     },
     "execution_count": 275,
     "metadata": {},
     "output_type": "execute_result"
    }
   ],
   "source": [
    "#25.\n",
    "\n",
    "def faltt(lst):\n",
    "    return[i for j in lst for i in j]\n",
    "\n",
    "lst = [[1,2,3],[4,5,6],[7,8,9]]\n",
    "faltt(lst)"
   ]
  },
  {
   "cell_type": "code",
   "execution_count": 281,
   "id": "0795cb0d-c4f2-4821-97ca-5b49848f4f5a",
   "metadata": {},
   "outputs": [
    {
     "data": {
      "text/plain": [
       "(20, 25)"
      ]
     },
     "execution_count": 281,
     "metadata": {},
     "output_type": "execute_result"
    }
   ],
   "source": [
    "#26.\n",
    "\n",
    "def evod(lst):\n",
    "    odd = sum([j for j in lst if j%2!=0])\n",
    "    even = sum([i for i in lst if i%2==0])\n",
    "    return even , odd\n",
    "\n",
    "lst = [1,2,3,4,5,6,7,8,9]\n",
    "evod(lst)"
   ]
  },
  {
   "cell_type": "code",
   "execution_count": 289,
   "id": "ad65e05b-b6db-48d5-abb0-00ba630bf9a7",
   "metadata": {},
   "outputs": [
    {
     "data": {
      "text/plain": [
       "[1, 9, 25, 49, 81]"
      ]
     },
     "execution_count": 289,
     "metadata": {},
     "output_type": "execute_result"
    }
   ],
   "source": [
    "#27.\n",
    "\n",
    "def sqr():\n",
    "    return[j**2 for j in range(1,11) if j%2!=0]\n",
    "\n",
    "sqr()"
   ]
  },
  {
   "cell_type": "code",
   "execution_count": 313,
   "id": "ba5c5995-4ee3-49f9-87d6-b137a079fd38",
   "metadata": {},
   "outputs": [
    {
     "data": {
      "text/plain": [
       "{'name': 'Alice', 'age': 25, 'city': 'New York'}"
      ]
     },
     "execution_count": 313,
     "metadata": {},
     "output_type": "execute_result"
    }
   ],
   "source": [
    "#28.\n",
    "\n",
    "def comb(lst1,lst2):\n",
    "    return{lst1[i]:lst2[i] for i in range(min(len(lst1),len(lst2)))}\n",
    "\n",
    "lst1 = [\"name\", \"age\", \"city\"]\n",
    "lst2 = [\"Alice\", 25, \"New York\"]\n",
    "comb(lst1,lst2)"
   ]
  },
  {
   "cell_type": "code",
   "execution_count": 339,
   "id": "8458a572-ab58-4c70-b295-5a0b8766c27a",
   "metadata": {},
   "outputs": [
    {
     "data": {
      "text/plain": [
       "['i', 'i']"
      ]
     },
     "execution_count": 339,
     "metadata": {},
     "output_type": "execute_result"
    }
   ],
   "source": [
    "#29.\n",
    "\n",
    "def vowel(strr):\n",
    "    vow = \"aeiouAEIOU\"\n",
    "    return[i for i in strr if i in vow]\n",
    "\n",
    "strr = \"Nikhil\"\n",
    "vowel(strr)"
   ]
  },
  {
   "cell_type": "code",
   "execution_count": 365,
   "id": "dc5b62be-a965-4068-bc42-fc4a10ff6614",
   "metadata": {},
   "outputs": [
    {
     "name": "stdout",
     "output_type": "stream",
     "text": [
      "Numeric-only list: ['123', '45', '789', '99', '024']\n"
     ]
    }
   ],
   "source": [
    "#30.\n",
    "\n",
    "def remove_non_numeric(strings):\n",
    "    return [''.join(i for i in x if i.isdigit())for x in strings]\n",
    "\n",
    "\n",
    "string_list = [\"abc123\", \"45xy\", \"hello789\", \"99!@#\", \"0ne2Three4\"]\n",
    "cleaned_list = remove_non_numeric(string_list)\n",
    "\n",
    "print(\"Numeric-only list:\", cleaned_list)\n"
   ]
  },
  {
   "cell_type": "code",
   "execution_count": 367,
   "id": "1ff9b0ae-18b3-4145-bd43-3fb40c07496c",
   "metadata": {},
   "outputs": [],
   "source": [
    "#31.\n",
    "\n"
   ]
  },
  {
   "cell_type": "code",
   "execution_count": 371,
   "id": "25e4dbaf-0782-477e-a18a-ef3ca93b2ef9",
   "metadata": {},
   "outputs": [
    {
     "name": "stdout",
     "output_type": "stream",
     "text": [
      "Pythagorean Triplets up to 20 : [(3, 4, 5), (5, 12, 13), (6, 8, 10), (8, 15, 17), (9, 12, 15)]\n"
     ]
    }
   ],
   "source": [
    "#32.\n",
    "\n",
    "def pythagorean_triplets(limit):\n",
    "    return [(a, b, c) \n",
    "            for a in range(1, limit) \n",
    "            for b in range(a, limit) \n",
    "            for c in range(b, limit) \n",
    "            if a**2 + b**2 == c**2]\n",
    "\n",
    "\n",
    "limit = 20\n",
    "triplets = pythagorean_triplets(limit)\n",
    "\n",
    "print(\"Pythagorean Triplets up to\", limit, \":\", triplets)\n"
   ]
  },
  {
   "cell_type": "code",
   "execution_count": 385,
   "id": "90c3958c-c4f5-4df5-818c-d1e888387255",
   "metadata": {},
   "outputs": [
    {
     "name": "stdout",
     "output_type": "stream",
     "text": [
      "[(1, 'a'), (1, 'b'), (1, 'c'), (2, 'a'), (2, 'b'), (2, 'c'), (3, 'a'), (3, 'b'), (3, 'c')]"
     ]
    }
   ],
   "source": [
    "#33.\n",
    "\n",
    "def combine(lis1,lis2):\n",
    "    return[(a,b) for a in lis1 for b in lis2]\n",
    "\n",
    "lis1 = [1,2,3]\n",
    "lis2 = ['a','b','c']\n",
    "res=combine(lis1,lis2)\n",
    "print(res,end='')"
   ]
  },
  {
   "cell_type": "code",
   "execution_count": 397,
   "id": "b730706b-6ede-4949-9159-d5d660fca77a",
   "metadata": {},
   "outputs": [
    {
     "name": "stdout",
     "output_type": "stream",
     "text": [
      "Statistics: {'mean': 3.6666666666666665, 'median': 4, 'mode': 5}\n"
     ]
    }
   ],
   "source": [
    "#34.\n",
    "from statistics import mean,median,mode\n",
    "\n",
    "def cal(lis1):\n",
    "    return{\n",
    "        \"mean\" : mean([i for i in lis1]),\n",
    "        \"median\":median([i for i in lis1]),\n",
    "        \"mode\":mode([i for i in lis1])\n",
    "}\n",
    "\n",
    "lis1 = [1, 2, 2, 3, 4, 5, 5, 5, 6]\n",
    "stats = cal(lis1)\n",
    "\n",
    "print(\"Statistics:\", stats)"
   ]
  },
  {
   "cell_type": "code",
   "execution_count": 399,
   "id": "74323b50-54d7-478d-89df-afeb950d7f90",
   "metadata": {},
   "outputs": [
    {
     "name": "stdout",
     "output_type": "stream",
     "text": [
      "Sum of digits of factorials from 1 to 5: [1, 2, 6, 6, 3]\n"
     ]
    }
   ],
   "source": [
    "#36.\n",
    "\n",
    "import math  \n",
    "\n",
    "sum_of_digits = [sum(int(digit) for digit in str(math.factorial(n))) for n in range(1, 6)]\n",
    "\n",
    "\n",
    "print(\"Sum of digits of factorials from 1 to 5:\", sum_of_digits)\n"
   ]
  },
  {
   "cell_type": "code",
   "execution_count": 419,
   "id": "5efa6a58-de27-45b8-9735-700dc5dfa741",
   "metadata": {},
   "outputs": [
    {
     "name": "stdout",
     "output_type": "stream",
     "text": [
      "khannn\n"
     ]
    }
   ],
   "source": [
    "#37.\n",
    "\n",
    "def finlon(strr):\n",
    "    word = strr.split()\n",
    "    return max([i for i in word],key=len)\n",
    "\n",
    "strr = \"hello my name is khannn\"\n",
    "res=finlon(strr)\n",
    "print(res)"
   ]
  },
  {
   "cell_type": "code",
   "execution_count": 427,
   "id": "9e02bd9a-b018-41b3-8fc3-2d4cfcae1c01",
   "metadata": {},
   "outputs": [
    {
     "data": {
      "text/plain": [
       "['education', 'queue', 'universe']"
      ]
     },
     "execution_count": 427,
     "metadata": {},
     "output_type": "execute_result"
    }
   ],
   "source": [
    "#38.\n",
    "\n",
    "def filt(strr):\n",
    "    vowel = \"aeiouAEIOU\"\n",
    "    return[i for i in strr if sum(1 for x in i if x in vowel)>3]\n",
    "\n",
    "strr = [\"elephant\", \"apple\", \"banana\", \"education\", \"queue\", \"rhythm\", \"universe\"]\n",
    "filt(strr)"
   ]
  },
  {
   "cell_type": "code",
   "execution_count": 451,
   "id": "b3bdfc6f-1430-495a-b746-b10cdc8663b4",
   "metadata": {},
   "outputs": [
    {
     "data": {
      "text/plain": [
       "[1, 2, 3, 4, 5, 6, 7, 8, 9, 1]"
      ]
     },
     "execution_count": 451,
     "metadata": {},
     "output_type": "execute_result"
    }
   ],
   "source": [
    "#39.\n",
    "\n",
    "def sumdigit(n):\n",
    "    return [sum(int(i) for i in str(x)) for x in range(1,n+1)]\n",
    "\n",
    "n = 10\n",
    "sumdigit(n)"
   ]
  },
  {
   "cell_type": "code",
   "execution_count": 463,
   "id": "6fc07382-1426-4ac5-b6f1-7fe764ed3ec1",
   "metadata": {},
   "outputs": [
    {
     "name": "stdout",
     "output_type": "stream",
     "text": [
      "[2, 3, 5, 7, 9, 11, 33, 55, 77, 99]\n"
     ]
    }
   ],
   "source": [
    "#40.\n",
    "\n",
    "def prim(n):\n",
    "    if n <2:\n",
    "        return False\n",
    "    else:\n",
    "        return all(n%2!=0 for i in range(2,int(n**0.5)+1))\n",
    "\n",
    "def pelim(n):\n",
    "    return str(n)==str(n)[::-1]\n",
    "\n",
    "x = 100\n",
    "pp = [n for n in range(1,x+1) if prim(n) and pelim(n)]\n",
    "print(pp)\n",
    "      "
   ]
  },
  {
   "cell_type": "code",
   "execution_count": null,
   "id": "3f6edde9-5158-494d-adc4-59fb50229828",
   "metadata": {},
   "outputs": [],
   "source": []
  }
 ],
 "metadata": {
  "kernelspec": {
   "display_name": "Python [conda env:base] *",
   "language": "python",
   "name": "conda-base-py"
  },
  "language_info": {
   "codemirror_mode": {
    "name": "ipython",
    "version": 3
   },
   "file_extension": ".py",
   "mimetype": "text/x-python",
   "name": "python",
   "nbconvert_exporter": "python",
   "pygments_lexer": "ipython3",
   "version": "3.12.7"
  }
 },
 "nbformat": 4,
 "nbformat_minor": 5
}
