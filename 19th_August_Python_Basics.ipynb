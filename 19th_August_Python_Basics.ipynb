{
 "cells": [
  {
   "cell_type": "code",
   "execution_count": 2,
   "id": "275d1bcb-e062-4c6c-8564-97cd3708150b",
   "metadata": {},
   "outputs": [
    {
     "name": "stdout",
     "output_type": "stream",
     "text": [
      "initial value of X 5 y 10\n",
      "after swapping : x 10 y 5\n"
     ]
    }
   ],
   "source": [
    "#Python Basics\n",
    "#1.\n",
    "x = 5\n",
    "y = 10\n",
    "\n",
    "print(\"initial value of X\",x,\"y\",y)\n",
    "\n",
    "x,y=y,x\n",
    "\n",
    "print(\"after swapping : x\",x,\"y\",y )\n"
   ]
  },
  {
   "cell_type": "code",
   "execution_count": 4,
   "id": "d9e5ba15-c797-494c-a9a4-edc0d3847e89",
   "metadata": {},
   "outputs": [
    {
     "name": "stdin",
     "output_type": "stream",
     "text": [
      "enter length of rectangle 5\n",
      "enter width of rectangle 5\n"
     ]
    },
    {
     "name": "stdout",
     "output_type": "stream",
     "text": [
      "25.0\n"
     ]
    }
   ],
   "source": [
    "#2.\n",
    "l = float(input(\"enter length of rectangle\"))\n",
    "w = float(input(\"enter width of rectangle\"))\n",
    "\n",
    "area = l*w\n",
    "\n",
    "print(area)"
   ]
  },
  {
   "cell_type": "code",
   "execution_count": 18,
   "id": "00115959-3628-4b1d-a283-000fce35fe35",
   "metadata": {},
   "outputs": [
    {
     "name": "stdin",
     "output_type": "stream",
     "text": [
      "please enter temperature in Celsius 51\n"
     ]
    },
    {
     "name": "stdout",
     "output_type": "stream",
     "text": [
      "Temperatur in Fahrenheit: 123\n"
     ]
    }
   ],
   "source": [
    "#3.\n",
    "c = float(input(\"please enter temperature in Celsius\"))\n",
    "f = c*1.8+32\n",
    "print(\"Temperatur in Fahrenheit:\", int(f))"
   ]
  },
  {
   "cell_type": "code",
   "execution_count": 24,
   "id": "77dbeb28-3b4f-4ea3-ad41-dde5946a0543",
   "metadata": {},
   "outputs": [
    {
     "name": "stdin",
     "output_type": "stream",
     "text": [
      "Please Enter a String: hello\n"
     ]
    },
    {
     "name": "stdout",
     "output_type": "stream",
     "text": [
      "5\n"
     ]
    }
   ],
   "source": [
    "##String Based \n",
    "#1.\n",
    "string = str(input(\"Please Enter a String:\"))\n",
    "length_of_string = len(string)\n",
    "print(length_of_string)\n"
   ]
  },
  {
   "cell_type": "code",
   "execution_count": 93,
   "id": "afe6fe7d-d20d-4ddc-9e9f-d34ec4d9f3b5",
   "metadata": {},
   "outputs": [
    {
     "name": "stdin",
     "output_type": "stream",
     "text": [
      "Please enter string: hello\n"
     ]
    },
    {
     "name": "stdout",
     "output_type": "stream",
     "text": [
      "no\n"
     ]
    }
   ],
   "source": [
    "#2.\n",
    "s=0\n",
    "vowels = 'aeiou'\n",
    "string = str(input(\"Please enter string:\"))\n",
    "for i in string:\n",
    "    if i in vowels:\n",
    "             s+=1\n",
    "else:\n",
    "    print(\"no\")\n",
    "    \n",
    "\n",
    "\n",
    "    \n"
   ]
  },
  {
   "cell_type": "code",
   "execution_count": 40,
   "id": "e2c42316-0271-41ec-8553-b197ba035087",
   "metadata": {},
   "outputs": [
    {
     "name": "stdout",
     "output_type": "stream",
     "text": [
      "reversel of string is : olleh\n"
     ]
    }
   ],
   "source": [
    "#3.\n",
    "string = \"hello\"\n",
    "reverse = string[::-1]\n",
    "print(f\"reversel of string is : {reverse}\")"
   ]
  },
  {
   "cell_type": "code",
   "execution_count": 67,
   "id": "6b235d89-746c-4aa1-ac32-d37aa0d10e25",
   "metadata": {},
   "outputs": [
    {
     "name": "stdin",
     "output_type": "stream",
     "text": [
      "Please enter string : ullu\n"
     ]
    },
    {
     "name": "stdout",
     "output_type": "stream",
     "text": [
      "Palindrome\n"
     ]
    }
   ],
   "source": [
    "#4.\n",
    "string = str(input(\"Please enter string :\"))\n",
    "if string == string[::-1]:\n",
    "    print(\"Palindrome\")\n",
    "else:\n",
    "    print(\"Not Palindrome\")"
   ]
  },
  {
   "cell_type": "code",
   "execution_count": 75,
   "id": "85bf33f7-a445-4be8-8528-2c5159825b42",
   "metadata": {},
   "outputs": [
    {
     "name": "stdin",
     "output_type": "stream",
     "text": [
      "Please Enter a string: my name is luci \n"
     ]
    },
    {
     "name": "stdout",
     "output_type": "stream",
     "text": [
      "mynameisluci\n"
     ]
    }
   ],
   "source": [
    "#5.\n",
    "string = str(input(\"Please Enter a string:\"))\n",
    "without_spaces = string.replace(\" \",\"\")\n",
    "print(without_spaces)"
   ]
  },
  {
   "cell_type": "code",
   "execution_count": null,
   "id": "e80ab53b-6385-4a31-aa2d-ab030436b8e5",
   "metadata": {},
   "outputs": [],
   "source": []
  }
 ],
 "metadata": {
  "kernelspec": {
   "display_name": "Python [conda env:base] *",
   "language": "python",
   "name": "conda-base-py"
  },
  "language_info": {
   "codemirror_mode": {
    "name": "ipython",
    "version": 3
   },
   "file_extension": ".py",
   "mimetype": "text/x-python",
   "name": "python",
   "nbconvert_exporter": "python",
   "pygments_lexer": "ipython3",
   "version": "3.12.7"
  }
 },
 "nbformat": 4,
 "nbformat_minor": 5
}
