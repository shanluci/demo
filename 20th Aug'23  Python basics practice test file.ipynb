{
 "cells": [
  {
   "cell_type": "code",
   "execution_count": 11,
   "id": "9ab62758-9370-4183-bad9-6e1628b377a1",
   "metadata": {},
   "outputs": [
    {
     "name": "stdin",
     "output_type": "stream",
     "text": [
      "input a string hello PW\n"
     ]
    },
    {
     "name": "stdout",
     "output_type": "stream",
     "text": [
      "WP olleh\n"
     ]
    }
   ],
   "source": [
    "#String Based Assignment Problem\n",
    "#1.\n",
    "\n",
    "def reverse_str(s):\n",
    "    return s[::-1]\n",
    "\n",
    "user_str = str(input(\"input a string\"))\n",
    "\n",
    "reversed_string = reverse_str(user_str)\n",
    "print(reversed_string)"
   ]
  },
  {
   "cell_type": "code",
   "execution_count": 25,
   "id": "1b448d2a-54fe-4b20-8902-f135adebca96",
   "metadata": {},
   "outputs": [
    {
     "name": "stdin",
     "output_type": "stream",
     "text": [
      "Please enter a string olo\n"
     ]
    },
    {
     "name": "stdout",
     "output_type": "stream",
     "text": [
      "pelindrome\n"
     ]
    }
   ],
   "source": [
    "#2.\n",
    "\n",
    "def peli(s):\n",
    "    return s[::-1]\n",
    "\n",
    "\n",
    "\n",
    "if user_string == peli(user_string):\n",
    "    print(\"palindrome\")\n",
    "else:\n",
    "    print(\"not palindrome\")\n",
    "\n",
    "\n",
    "\n"
   ]
  },
  {
   "cell_type": "code",
   "execution_count": 37,
   "id": "86152862-4296-455a-aa31-685289b0419a",
   "metadata": {},
   "outputs": [
    {
     "name": "stdin",
     "output_type": "stream",
     "text": [
      "Please enter a string jhkl\n"
     ]
    },
    {
     "name": "stdout",
     "output_type": "stream",
     "text": [
      "JHKL\n"
     ]
    }
   ],
   "source": [
    "#3.\n",
    "\n",
    "def upper(s):\n",
    "    return s.upper()\n",
    "\n",
    "\n",
    "user_string = str(input(\"Please enter a string\"))\n",
    "\n",
    "final_print = lower(user_string)\n",
    "print(final_print)"
   ]
  },
  {
   "cell_type": "code",
   "execution_count": 41,
   "id": "5844a5f6-4451-4b68-b684-ac2b391193a9",
   "metadata": {},
   "outputs": [
    {
     "name": "stdin",
     "output_type": "stream",
     "text": [
      "Please enter a string HHH\n"
     ]
    },
    {
     "name": "stdout",
     "output_type": "stream",
     "text": [
      "hhh\n"
     ]
    }
   ],
   "source": [
    "#4.\n",
    "\n",
    "def lower(s):\n",
    "    return s.lower()\n",
    "\n",
    "\n",
    "user_string = str(input(\"Please enter a string\"))\n",
    "\n",
    "final_print = lower(user_string)\n",
    "print(final_print)\n"
   ]
  },
  {
   "cell_type": "code",
   "execution_count": 73,
   "id": "b440198c-715b-4d47-8e6c-e3fa03cdef96",
   "metadata": {},
   "outputs": [
    {
     "name": "stdin",
     "output_type": "stream",
     "text": [
      "Please enter a string loop\n"
     ]
    },
    {
     "name": "stdout",
     "output_type": "stream",
     "text": [
      "2\n"
     ]
    }
   ],
   "source": [
    "#5.\n",
    "\n",
    "def vowel(s):\n",
    "    v=0\n",
    "\n",
    "    vowels = \"aeiou\"\n",
    "    for i in s:\n",
    "        if i in vowels:\n",
    "            v+=1\n",
    "        \n",
    "    return v     \n",
    "    \n",
    "\n",
    "    \n",
    "\n",
    "\n",
    "user_string = str(input(\"Please enter a string\"))\n",
    "\n",
    "final_print = vowel(user_string)\n",
    "print(final_print)\n"
   ]
  },
  {
   "cell_type": "code",
   "execution_count": 77,
   "id": "1c73eb49-d010-4b96-9462-21a3b217b2e5",
   "metadata": {},
   "outputs": [
    {
     "name": "stdin",
     "output_type": "stream",
     "text": [
      "Please enter a string kkllpp\n"
     ]
    },
    {
     "name": "stdout",
     "output_type": "stream",
     "text": [
      "6\n"
     ]
    }
   ],
   "source": [
    "#6.\n",
    "\n",
    "def const(s):\n",
    "    c = 0\n",
    "    consonent = \"abcdfghjklmnpqrstvxyz\"\n",
    "    for i in s:\n",
    "        if i in consonent:\n",
    "            c+=1\n",
    "    return c\n",
    "\n",
    "user_string = str(input(\"Please enter a string\"))\n",
    "\n",
    "final_print = const(user_string)\n",
    "print(final_print)\n",
    "\n"
   ]
  },
  {
   "cell_type": "code",
   "execution_count": 81,
   "id": "c9c1103f-0c09-4e13-bce1-4fc49570e479",
   "metadata": {},
   "outputs": [
    {
     "name": "stdin",
     "output_type": "stream",
     "text": [
      "Please enter a string hello luvi\n"
     ]
    },
    {
     "name": "stdout",
     "output_type": "stream",
     "text": [
      "helloluvi\n"
     ]
    }
   ],
   "source": [
    "#7.\n",
    "\n",
    "def remove(s):\n",
    "    return s.replace(\" \",\"\")\n",
    "    \n",
    "\n",
    "user_string = str(input(\"Please enter a string\"))\n",
    "\n",
    "final_print = remove(user_string)\n",
    "print(final_print)\n"
   ]
  },
  {
   "cell_type": "code",
   "execution_count": 125,
   "id": "e0e574a5-34c2-49b8-b321-7a45c41814ec",
   "metadata": {},
   "outputs": [
    {
     "name": "stdin",
     "output_type": "stream",
     "text": [
      "Please enter a string KKoo\n"
     ]
    },
    {
     "name": "stdout",
     "output_type": "stream",
     "text": [
      "4\n"
     ]
    }
   ],
   "source": [
    "#8.\n",
    "\n",
    "def len_count(s):\n",
    "    c = \"abcdefghijklmnopqrstuvwxyzABCDEFGHIJKLMNOPQRSTUVWXYZ\"\n",
    "    v = 0\n",
    "    for i in s:\n",
    "        if i in c:\n",
    "            v+=1\n",
    "    return v\n",
    "\n",
    "user_string = str(input(\"Please enter a string\"))\n",
    "\n",
    "final_print = len_count(user_string)\n",
    "print(final_print)"
   ]
  },
  {
   "cell_type": "code",
   "execution_count": 3,
   "id": "e60d31be-5ee2-4f28-8b17-c89048e0e055",
   "metadata": {},
   "outputs": [
    {
     "name": "stdin",
     "output_type": "stream",
     "text": [
      "Given string hll\n",
      "word searched p\n"
     ]
    },
    {
     "name": "stdout",
     "output_type": "stream",
     "text": [
      "no p is not present\n"
     ]
    }
   ],
   "source": [
    "#9.\n",
    "\n",
    "def check(s,word):\n",
    "    if word in s:\n",
    "        return s    \n",
    "        \n",
    "\n",
    "user_string = str(input(\"Given string\"))\n",
    "search = str(input(\"word searched\"))\n",
    "\n",
    "if check(user_string,search):\n",
    "    print(f'yes word {search} is present')\n",
    "else:\n",
    "    print(f'no word {search} is not present')\n"
   ]
  },
  {
   "cell_type": "code",
   "execution_count": 25,
   "id": "30d23f8a-f9fe-4cee-8fe0-060e4e38699e",
   "metadata": {},
   "outputs": [
    {
     "name": "stdin",
     "output_type": "stream",
     "text": [
      "Please enter a string hello\n",
      "Please enter word u want to replace o\n",
      "Please enter word u want to replace with a\n"
     ]
    },
    {
     "name": "stdout",
     "output_type": "stream",
     "text": [
      "hella\n"
     ]
    }
   ],
   "source": [
    "#10.\n",
    "\n",
    "def replace(s,replace_word,new):\n",
    "    if replace_word in s:\n",
    "        return s.replace(replace_word,new)\n",
    "\n",
    "user_string = str(input(\"Please enter a string\"))\n",
    "replace_word = str(input(\"Please enter word u want to replace\"))\n",
    "new = str(input(\"Please enter word u want to replace with\"))\n",
    "\n",
    "final=replace(user_string,replace_word,new)\n",
    "print(final)"
   ]
  },
  {
   "cell_type": "code",
   "execution_count": 59,
   "id": "ba734e0b-ad5d-4036-a9d8-99d5d117b1f2",
   "metadata": {},
   "outputs": [
    {
     "name": "stdin",
     "output_type": "stream",
     "text": [
      "Please enter a string hello hii hii\n",
      "Please enter word u want to count i\n"
     ]
    },
    {
     "name": "stdout",
     "output_type": "stream",
     "text": [
      "4\n"
     ]
    }
   ],
   "source": [
    "#11.\n",
    "\n",
    "def count_word(s,w):\n",
    "    c=0\n",
    "    for i in s:\n",
    "        if i in w:\n",
    "           c+=1 \n",
    "            \n",
    "    return c\n",
    "    \n",
    "user_string = str(input(\"Please enter a string\"))\n",
    "occurance_word = str(input(\"Please enter word u want to count\"))\n",
    "\n",
    "final_count = count_word(user_string.lower(),occurance_word.lower())\n",
    "print(final_count)\n",
    "\n"
   ]
  },
  {
   "cell_type": "code",
   "execution_count": 97,
   "id": "b11d96fc-7164-405f-b254-bac99638465d",
   "metadata": {},
   "outputs": [
    {
     "name": "stdin",
     "output_type": "stream",
     "text": [
      "Please enter a string hello world\n",
      "Please enter a wrod to find world\n"
     ]
    },
    {
     "name": "stdout",
     "output_type": "stream",
     "text": [
      "word is world and index is 6\n"
     ]
    }
   ],
   "source": [
    "#12.\n",
    "\n",
    "def first_occur(s,word):\n",
    "    for i in range(len(s)-len(word)+1):\n",
    "        if s[i:i+len(word)]==word:\n",
    "            return i\n",
    "    return -1\n",
    "\n",
    "user_string = str(input(\"Please enter a string\"))\n",
    "word_ = str(input(\"Please enter a wrod to find\"))\n",
    "\n",
    "final_index = first_occur(user_string.lower(),word_.lower())\n",
    "\n",
    "if final_index != -1:\n",
    "    print(f'word is {word} and index is {final_index}')\n",
    "else:\n",
    "    print(f'word is {word} is not found')\n",
    "\n"
   ]
  },
  {
   "cell_type": "code",
   "execution_count": 121,
   "id": "de2d7711-a9aa-4c12-83ea-d7c25fbfbb5f",
   "metadata": {},
   "outputs": [
    {
     "name": "stdin",
     "output_type": "stream",
     "text": [
      "Please enter a string hello world hello\n",
      "Please enter a wrod to find hello\n"
     ]
    },
    {
     "name": "stdout",
     "output_type": "stream",
     "text": [
      "index of word is 12\n"
     ]
    }
   ],
   "source": [
    "#13.\n",
    "\n",
    "def lst_occ(s,w):\n",
    "    for i in range(len(s)-len(w),-1,-1):\n",
    "        if s[i:i+len(w)] == w:\n",
    "            return i\n",
    "    return -1\n",
    "\n",
    "s_ = str(input(\"Please enter a string\"))\n",
    "w_ = str(input(\"Please enter a wrod to find\"))\n",
    "\n",
    "final_index = lst_occ(s_.lower(),w_.lower())\n",
    "\n",
    "if final_index != -1:\n",
    "    print(f'index of word is {final_index}')\n",
    "else:\n",
    "    print(f'index not found')\n",
    "        "
   ]
  },
  {
   "cell_type": "code",
   "execution_count": 147,
   "id": "fde40226-bdd0-4185-a5ca-b8c90e11f914",
   "metadata": {},
   "outputs": [
    {
     "name": "stdin",
     "output_type": "stream",
     "text": [
      "Please enter a string hi hi hi hi \n"
     ]
    },
    {
     "name": "stdout",
     "output_type": "stream",
     "text": [
      "['hi', 'hi', 'hi', 'hi']\n"
     ]
    }
   ],
   "source": [
    "#14.\n",
    "\n",
    "def split_(word):\n",
    "    return word.split()\n",
    "\n",
    "worr = str(input(\"Please enter a string\"))\n",
    "final = split_(worr)\n",
    "print(final)\n",
    "\n"
   ]
  },
  {
   "cell_type": "code",
   "execution_count": 185,
   "id": "9f5e7013-f815-40f0-99ab-ee65a7338298",
   "metadata": {},
   "outputs": [
    {
     "name": "stdout",
     "output_type": "stream",
     "text": [
      "mynameijki\n"
     ]
    }
   ],
   "source": [
    "#15.\n",
    "\n",
    "def joinn(word):\n",
    "    return \"\".join(word)\n",
    "\n",
    "worr = [\"my\", \"name\", \"ij\", \"ki\"]\n",
    "final = joinn(worr)\n",
    "print(final)"
   ]
  },
  {
   "cell_type": "code",
   "execution_count": 189,
   "id": "231797bb-8c69-48a3-b09e-19b8ab3281f7",
   "metadata": {},
   "outputs": [
    {
     "name": "stdin",
     "output_type": "stream",
     "text": [
      "Please enter a string hello my name is \n"
     ]
    },
    {
     "name": "stdout",
     "output_type": "stream",
     "text": [
      "hello_my_name_is_\n"
     ]
    }
   ],
   "source": [
    "#16.\n",
    "\n",
    "def replace_wrd(word):\n",
    "    return word.replace(\" \",\"_\")\n",
    "\n",
    "\n",
    "worr = str(input(\"Please enter a string\"))\n",
    "final = replace_wrd(worr)\n",
    "print(final)\n",
    "\n"
   ]
  },
  {
   "cell_type": "code",
   "execution_count": 213,
   "id": "7d8e5ca2-135e-4348-b2d8-fa27572faacd",
   "metadata": {},
   "outputs": [
    {
     "name": "stdin",
     "output_type": "stream",
     "text": [
      "Please enter a string hello my name is '\n",
      "Please enter to check hello\n"
     ]
    },
    {
     "name": "stdout",
     "output_type": "stream",
     "text": [
      "true\n"
     ]
    }
   ],
   "source": [
    "#17.\n",
    "\n",
    "def check_startwith(word,specific):\n",
    "    return word.startswith(specific)\n",
    "        \n",
    "\n",
    "worr = str(input(\"Please enter a string\"))\n",
    "spe = str(input(\"Please enter to check\"))\n",
    "\n",
    "final = check_startwith(worr,spe)\n",
    "if final:\n",
    "    print(\"true\")\n",
    "else:\n",
    "    print(\"false\")"
   ]
  },
  {
   "cell_type": "code",
   "execution_count": 219,
   "id": "3912ae5c-24b0-4ba1-89fb-13f8b3de21a5",
   "metadata": {},
   "outputs": [
    {
     "name": "stdin",
     "output_type": "stream",
     "text": [
      "Please enter a string hello is\n",
      "Please enter to check is\n"
     ]
    },
    {
     "name": "stdout",
     "output_type": "stream",
     "text": [
      "true\n"
     ]
    }
   ],
   "source": [
    "#18.\n",
    "def specific_word(word,specific):\n",
    "    return word.endswith(specific)\n",
    "        \n",
    "\n",
    "worr = str(input(\"Please enter a string\"))\n",
    "spe = str(input(\"Please enter to check\"))\n",
    "final = specific_word(worr,spe)\n",
    "if final:\n",
    "    print(\"true\")\n",
    "else:\n",
    "    print(\"false\")"
   ]
  },
  {
   "cell_type": "code",
   "execution_count": 225,
   "id": "12463471-96fe-4372-a074-8e8eb2ecc0ce",
   "metadata": {},
   "outputs": [
    {
     "name": "stdin",
     "output_type": "stream",
     "text": [
      "Please enter a string hello\n"
     ]
    },
    {
     "name": "stdout",
     "output_type": "stream",
     "text": [
      "Hello\n"
     ]
    }
   ],
   "source": [
    "#19.\n",
    "\n",
    "def make_title(word):\n",
    "    return word.title()\n",
    "\n",
    "worr = str(input(\"Please enter a string\"))\n",
    "final = make_title(worr)\n",
    "print(final)\n"
   ]
  },
  {
   "cell_type": "code",
   "execution_count": 237,
   "id": "1ef4371b-0ebe-41c5-ad1a-360ff19eef55",
   "metadata": {},
   "outputs": [
    {
     "name": "stdin",
     "output_type": "stream",
     "text": [
      "Please enter a string hello my name is\n"
     ]
    },
    {
     "name": "stdout",
     "output_type": "stream",
     "text": [
      "hello\n"
     ]
    }
   ],
   "source": [
    "#20.\n",
    "\n",
    "def longest_word(word):\n",
    "    words = word.split()\n",
    "    longest = max(words,key=len)\n",
    "    return longest\n",
    "    \n",
    "\n",
    "\n",
    "worr = str(input(\"Please enter a string\"))\n",
    "final = check(worr)\n",
    "print(final)"
   ]
  },
  {
   "cell_type": "code",
   "execution_count": 239,
   "id": "32d7269d-48f0-41a1-a4e5-425cfe6c877d",
   "metadata": {},
   "outputs": [
    {
     "name": "stdin",
     "output_type": "stream",
     "text": [
      "Please enter a string hello my name is a\n"
     ]
    },
    {
     "name": "stdout",
     "output_type": "stream",
     "text": [
      "a\n"
     ]
    }
   ],
   "source": [
    "#21.\n",
    "\n",
    "def smallest_word(word):\n",
    "    words = word.split()\n",
    "    smallest = min(words,key=len)\n",
    "    return smallest\n",
    "    \n",
    "\n",
    "\n",
    "worr = str(input(\"Please enter a string\"))\n",
    "final = smallest_word(worr)\n",
    "print(final)"
   ]
  },
  {
   "cell_type": "code",
   "execution_count": 319,
   "id": "e347ef0d-9f51-4008-8896-5602284d0bbd",
   "metadata": {},
   "outputs": [
    {
     "name": "stdin",
     "output_type": "stream",
     "text": [
      "Please enter a string hello my name is \n"
     ]
    },
    {
     "name": "stdout",
     "output_type": "stream",
     "text": [
      " is name my hello\n"
     ]
    }
   ],
   "source": [
    "#22.\n",
    "\n",
    "def revers_word(word):\n",
    "    spl = word.split(\" \")\n",
    "    ulta = spl[::-1]\n",
    "    return ' '.join(ulta)\n",
    "\n",
    "worr = str(input(\"Please enter a string\"))\n",
    "final = check_alphamueric(worr)\n",
    "print(final)"
   ]
  },
  {
   "cell_type": "code",
   "execution_count": 329,
   "id": "aa5968d2-189f-401c-871e-7eb8a6f85688",
   "metadata": {},
   "outputs": [
    {
     "name": "stdin",
     "output_type": "stream",
     "text": [
      "Please enter a string ankit12\n"
     ]
    },
    {
     "name": "stdout",
     "output_type": "stream",
     "text": [
      "True\n"
     ]
    }
   ],
   "source": [
    "#23.\n",
    "\n",
    "def check_alphamueric(word):\n",
    "    return word.isalnum()\n",
    "\n",
    "worr = str(input(\"Please enter a string\"))\n",
    "final = check_alphamueric(worr)\n",
    "print(final)"
   ]
  },
  {
   "cell_type": "code",
   "execution_count": 478,
   "id": "d996f342-63f8-4d46-8a99-aef8706a3a9e",
   "metadata": {},
   "outputs": [
    {
     "name": "stdin",
     "output_type": "stream",
     "text": [
      "Please enter a string kilo 00\n"
     ]
    },
    {
     "name": "stdout",
     "output_type": "stream",
     "text": [
      "00\n"
     ]
    }
   ],
   "source": [
    "#24.\n",
    "\n",
    "def exract_num(word):\n",
    "    digit = \"\"\n",
    "    for i in word:\n",
    "        if i.isdigit():\n",
    "            digit +=i\n",
    "    return digit\n",
    "worr = str(input(\"Please enter a string\"))\n",
    "final = exract_num(worr)\n",
    "print(final)"
   ]
  },
  {
   "cell_type": "code",
   "execution_count": 482,
   "id": "0b53ce8a-f526-4004-9628-1657757a5f1a",
   "metadata": {},
   "outputs": [
    {
     "name": "stdin",
     "output_type": "stream",
     "text": [
      "Please enter a string alpha\n"
     ]
    },
    {
     "name": "stdout",
     "output_type": "stream",
     "text": [
      "alpha\n"
     ]
    }
   ],
   "source": [
    "#25.\n",
    "\n",
    "def exract_alpha(word):\n",
    "    alpha = \"\"\n",
    "    for i in word:\n",
    "        if i.isalpha():\n",
    "            alpha +=i\n",
    "    return alpha\n",
    "worr = str(input(\"Please enter a string\"))\n",
    "final = exract_alpha(worr)\n",
    "print(final)\n",
    "\n",
    "\n"
   ]
  },
  {
   "cell_type": "code",
   "execution_count": 500,
   "id": "e05073f5-4774-4a59-a617-9f8caa16e074",
   "metadata": {},
   "outputs": [
    {
     "name": "stdin",
     "output_type": "stream",
     "text": [
      "Please Enter a String HL\n"
     ]
    },
    {
     "name": "stdout",
     "output_type": "stream",
     "text": [
      "2\n"
     ]
    }
   ],
   "source": [
    "#26.\n",
    "\n",
    "def check_upper(word):\n",
    "    count = 0\n",
    "    for i in word:\n",
    "        if i.isupper():\n",
    "            count += 1\n",
    "    return count\n",
    "\n",
    "\n",
    "worr = str(input(\"Please Enter a String\"))\n",
    "final = check_upper(worr)\n",
    "print(final)"
   ]
  },
  {
   "cell_type": "code",
   "execution_count": 504,
   "id": "d958e775-32ee-4ff5-9afc-a2c2c7cbb284",
   "metadata": {},
   "outputs": [
    {
     "name": "stdin",
     "output_type": "stream",
     "text": [
      "Please Enter a String jl\n"
     ]
    },
    {
     "name": "stdout",
     "output_type": "stream",
     "text": [
      "2\n"
     ]
    }
   ],
   "source": [
    "#27.\n",
    "\n",
    "def check_lower(word):\n",
    "    count = 0\n",
    "    for i in word:\n",
    "        if i.islower():\n",
    "            count += 1\n",
    "    return count\n",
    "\n",
    "\n",
    "worr = str(input(\"Please Enter a String\"))\n",
    "final = check_lower(worr)\n",
    "print(final)"
   ]
  },
  {
   "cell_type": "code",
   "execution_count": 526,
   "id": "87cd94c8-5827-499b-b262-e122a273de3a",
   "metadata": {},
   "outputs": [
    {
     "name": "stdin",
     "output_type": "stream",
     "text": [
      "Please Enter a String mY nAME iS\n"
     ]
    },
    {
     "name": "stdout",
     "output_type": "stream",
     "text": [
      "My Name Is\n"
     ]
    }
   ],
   "source": [
    "#28.\n",
    "\n",
    "def swap_case(word):\n",
    "    return word.swapcase()\n",
    "\n",
    "worr = str(input(\"Please Enter a String\"))\n",
    "final = swap_case(worr)\n",
    "print(final)\n"
   ]
  },
  {
   "cell_type": "code",
   "execution_count": 540,
   "id": "0a8faa21-4dd9-4b81-9101-03cc81b566a0",
   "metadata": {},
   "outputs": [
    {
     "name": "stdin",
     "output_type": "stream",
     "text": [
      "Please Enter a String hello ji\n",
      "Please Enter a String ji\n"
     ]
    },
    {
     "name": "stdout",
     "output_type": "stream",
     "text": [
      "hello  \n"
     ]
    }
   ],
   "source": [
    "#29.\n",
    "\n",
    "def remove_case(word,remove):\n",
    "    return word.replace(remove,\" \")\n",
    "\n",
    "worr = str(input(\"Please Enter a String\"))\n",
    "remv = str(input(\"Please Enter a String\"))\n",
    "final = remove_case(worr,remv)\n",
    "print(final)\n",
    "\n"
   ]
  },
  {
   "cell_type": "code",
   "execution_count": 560,
   "id": "2b8f3e9d-5114-4478-9323-3762cca1a45a",
   "metadata": {},
   "outputs": [
    {
     "name": "stdin",
     "output_type": "stream",
     "text": [
      "Please Enter a String luci@gmail.com\n"
     ]
    },
    {
     "name": "stdout",
     "output_type": "stream",
     "text": [
      "True\n"
     ]
    }
   ],
   "source": [
    "#30.\n",
    "\n",
    "def email_check(word):\n",
    "    xmail = \"@gmail.com\"\n",
    "    if word.endswith(xmail):\n",
    "        return True\n",
    "    return -1\n",
    "\n",
    "worr = str(input(\"Please Enter a String\"))\n",
    "final = email_check(worr)\n",
    "print(final)"
   ]
  },
  {
   "cell_type": "code",
   "execution_count": 65,
   "id": "96115a38-1ee9-4d2a-9b25-75de488a43db",
   "metadata": {},
   "outputs": [
    {
     "name": "stdin",
     "output_type": "stream",
     "text": [
      "Please Enter a String luci@gmail.com\n"
     ]
    },
    {
     "name": "stdout",
     "output_type": "stream",
     "text": [
      "luci\n"
     ]
    }
   ],
   "source": [
    "#31.\n",
    "\n",
    "def extract_user(word):\n",
    "    if \"@gmail.com\" in word:\n",
    "        return word.split(\"@gmail.com\")[0]\n",
    "\n",
    "worr = str(input(\"Please Enter a String\"))\n",
    "final = extract_user(worr)\n",
    "print(final)"
   ]
  },
  {
   "cell_type": "code",
   "execution_count": 597,
   "id": "4f37caf2-2122-49ac-86a0-1f5c3fcdda6a",
   "metadata": {},
   "outputs": [
    {
     "name": "stdin",
     "output_type": "stream",
     "text": [
      "Please Enter a String luci@gmail.com\n"
     ]
    },
    {
     "name": "stdout",
     "output_type": "stream",
     "text": [
      "luci\n"
     ]
    }
   ],
   "source": [
    "#32.\n",
    "\n",
    "def extract_domainname(word):\n",
    "    if \"@\" in word:\n",
    "        return word.split(\"@\")[1]\n",
    "\n",
    "worr = str(input(\"Please Enter a String\"))\n",
    "final = extract_domainname(worr)\n",
    "print(final)"
   ]
  },
  {
   "cell_type": "code",
   "execution_count": 12,
   "id": "d922e372-a4fe-407a-8329-367f6699957b",
   "metadata": {},
   "outputs": [
    {
     "name": "stdin",
     "output_type": "stream",
     "text": [
      "Please Enter a String hello    hi   how     are   youu\n"
     ]
    },
    {
     "name": "stdout",
     "output_type": "stream",
     "text": [
      "hello hi how are youu\n"
     ]
    }
   ],
   "source": [
    "#33.\n",
    "\n",
    "def multiple_space(word):\n",
    "    return ' '.join(word.split())\n",
    "\n",
    "worr = str(input(\"Please Enter a String\"))\n",
    "final = multiple_space(worr)\n",
    "print(final)"
   ]
  },
  {
   "cell_type": "code",
   "execution_count": 63,
   "id": "1297eab6-57c1-4a08-b55b-7dada596bb53",
   "metadata": {},
   "outputs": [
    {
     "name": "stdin",
     "output_type": "stream",
     "text": [
      "Please Enter a String www.LUCI.COM\n"
     ]
    },
    {
     "name": "stdout",
     "output_type": "stream",
     "text": [
      "valid\n"
     ]
    }
   ],
   "source": [
    "#34.\n",
    "\n",
    "def check_url(word):\n",
    "        if word.startswith(\"www.\") and word.endswith(\".com\"):\n",
    "            return(\"valid\")\n",
    "        else:\n",
    "            return(\"invalid\")\n",
    "\n",
    "\n",
    "worr = (str(input(\"Please Enter a String\")))\n",
    "final = check_url(worr.lower())\n",
    "print(final)\n"
   ]
  },
  {
   "cell_type": "code",
   "execution_count": 99,
   "id": "789ffe3a-5cf0-4687-8f2c-34b9d9df20b5",
   "metadata": {},
   "outputs": [
    {
     "name": "stdin",
     "output_type": "stream",
     "text": [
      "Please Enter a String https://www.w3schools.com/python/python_ref_string.asp\n"
     ]
    },
    {
     "name": "stdout",
     "output_type": "stream",
     "text": [
      "https\n"
     ]
    }
   ],
   "source": [
    "#35.\n",
    "\n",
    "def protocol(word):\n",
    "    if \"https\" in word:\n",
    "        return (\"https\")\n",
    "    elif \"http\" in word:\n",
    "        return (\"http\")\n",
    "    else:\n",
    "        return (\"not found\")\n",
    "\n",
    "worr = str(input(\"Please Enter a String\"))\n",
    "final = protocol(worr)\n",
    "print(final)"
   ]
  },
  {
   "cell_type": "code",
   "execution_count": 113,
   "id": "3258a147-69a6-4892-a406-e3f6defdf05d",
   "metadata": {},
   "outputs": [
    {
     "name": "stdin",
     "output_type": "stream",
     "text": [
      "Please Enter a String hello\n"
     ]
    },
    {
     "name": "stdout",
     "output_type": "stream",
     "text": [
      "{'h': 1, 'e': 1, 'l': 2, 'o': 1}\n"
     ]
    }
   ],
   "source": [
    "#36.\n",
    "\n",
    "def frequency_count(word):\n",
    "    count = { }\n",
    "    for i in word:\n",
    "        if i in count:\n",
    "            count[i] += 1\n",
    "        else:\n",
    "            count[i] = 1 \n",
    "    return count\n",
    "\n",
    "\n",
    "worr = str(input(\"Please Enter a String\"))\n",
    "final = frequency_count(worr)\n",
    "print(final)\n",
    "\n",
    "\n",
    "\n"
   ]
  },
  {
   "cell_type": "code",
   "execution_count": 145,
   "id": "430cbe00-f644-495a-bee4-73f987a6d0cf",
   "metadata": {},
   "outputs": [
    {
     "name": "stdin",
     "output_type": "stream",
     "text": [
      "Please Enter a String jo/ko'\n"
     ]
    },
    {
     "name": "stdout",
     "output_type": "stream",
     "text": [
      "j o k o\n"
     ]
    }
   ],
   "source": [
    "#37.\n",
    "\n",
    "def puncuation(word):\n",
    "    result = ' '.join(i for i in word if i.isalnum() or i.isspace())\n",
    "    return result\n",
    "\n",
    "worr = str(input(\"Please Enter a String\"))\n",
    "final = puncuation(worr)\n",
    "print(final)"
   ]
  },
  {
   "cell_type": "code",
   "execution_count": 155,
   "id": "80a3a93e-5a74-42b6-ae2e-aa1f33be5054",
   "metadata": {},
   "outputs": [
    {
     "name": "stdin",
     "output_type": "stream",
     "text": [
      "Please Enter a String olo123\n"
     ]
    },
    {
     "name": "stdout",
     "output_type": "stream",
     "text": [
      "False\n"
     ]
    }
   ],
   "source": [
    "#38.\n",
    "\n",
    "def digit(word):\n",
    "    return word.isdigit()\n",
    "\n",
    "worr = str(input(\"Please Enter a String\"))\n",
    "final = digit(worr)\n",
    "print(final)"
   ]
  },
  {
   "cell_type": "code",
   "execution_count": 161,
   "id": "a7de620c-1b14-4f6b-9ba9-d9b290109046",
   "metadata": {},
   "outputs": [
    {
     "name": "stdin",
     "output_type": "stream",
     "text": [
      "Please Enter a String ll\n"
     ]
    },
    {
     "name": "stdout",
     "output_type": "stream",
     "text": [
      "True\n"
     ]
    }
   ],
   "source": [
    "#39.\n",
    "\n",
    "def alphabets(word):\n",
    "    return word.isalpha()\n",
    "\n",
    "worr = str(input(\"Please Enter a String\"))\n",
    "final = alphabets(worr)\n",
    "print(final)"
   ]
  },
  {
   "cell_type": "code",
   "execution_count": 177,
   "id": "b82d536f-36f8-432a-ac2f-e230f6432ad3",
   "metadata": {},
   "outputs": [
    {
     "name": "stdin",
     "output_type": "stream",
     "text": [
      "Please Enter a String hello\n"
     ]
    },
    {
     "name": "stdout",
     "output_type": "stream",
     "text": [
      "['h', 'e', 'l', 'l', 'o']\n"
     ]
    }
   ],
   "source": [
    "#40.\n",
    "\n",
    "def conv_string(word):\n",
    "    return list(word)\n",
    "    \n",
    "worr = str(input(\"Please Enter a String\"))\n",
    "final = conv_string(worr)\n",
    "print(final)"
   ]
  },
  {
   "cell_type": "code",
   "execution_count": 209,
   "id": "7d03a777-1846-43e8-891c-7c8862ef5d3a",
   "metadata": {},
   "outputs": [
    {
     "name": "stdin",
     "output_type": "stream",
     "text": [
      "please enter a string kilo\n",
      "Please Enter a String loki\n"
     ]
    },
    {
     "name": "stdout",
     "output_type": "stream",
     "text": [
      "anagram\n"
     ]
    }
   ],
   "source": [
    "#41.\n",
    "\n",
    "def anagrams(word1,word2):\n",
    "    if sorted(word1) == sorted(word2):\n",
    "        return(\"anagram\")\n",
    "    else:\n",
    "        return(\"Not anagram\")\n",
    "\n",
    "worr1 = str(input(\"Please Enter a String\".lower()))\n",
    "worr2 = str(input(\"Please Enter a String\").lower())\n",
    "final = anagrams(worr1,worr2)\n",
    "print(final)\n",
    "\n",
    "        "
   ]
  },
  {
   "cell_type": "code",
   "execution_count": 211,
   "id": "97b54a7a-cf2d-42d4-bb74-999b0d2ac5d7",
   "metadata": {},
   "outputs": [],
   "source": [
    "#42.\n",
    "\n",
    "\n",
    "\n"
   ]
  },
  {
   "cell_type": "code",
   "execution_count": 213,
   "id": "13a78528-9bb8-4b96-a1d6-eb17176c279b",
   "metadata": {},
   "outputs": [],
   "source": [
    "#43.\n",
    "\n"
   ]
  },
  {
   "cell_type": "code",
   "execution_count": 235,
   "id": "410eaf62-cb37-4934-8fae-6f631e49d2a7",
   "metadata": {},
   "outputs": [
    {
     "name": "stdin",
     "output_type": "stream",
     "text": [
      "Please Enter a String python is python\n"
     ]
    },
    {
     "name": "stdout",
     "output_type": "stream",
     "text": [
      "python\n"
     ]
    }
   ],
   "source": [
    "#44.\n",
    "\n",
    "def frequent(word):\n",
    "    words = word.split()\n",
    "    count = {}\n",
    "    for i in words:\n",
    "        if i in count:\n",
    "            count[i] += 1\n",
    "        else:\n",
    "            count[i] = 1\n",
    "\n",
    "    most_frequent = max(count,key = count.get)\n",
    "    return most_frequent\n",
    "\n",
    "worr = str(input(\"Please Enter a String\"))\n",
    "final = frequent(worr)\n",
    "print(final)"
   ]
  },
  {
   "cell_type": "code",
   "execution_count": 248,
   "id": "cf41317f-9688-4baf-9947-b4f77bab8588",
   "metadata": {},
   "outputs": [
    {
     "name": "stdin",
     "output_type": "stream",
     "text": [
      "Please Enter a String hello hi how are how \n"
     ]
    },
    {
     "name": "stdout",
     "output_type": "stream",
     "text": [
      "['hello', 'are', 'how', 'hi']\n"
     ]
    }
   ],
   "source": [
    "#45.\n",
    "\n",
    "def unique(word):\n",
    "    words = word.split()\n",
    "    frequent = set(words)\n",
    "    most_unique = list(frequent)\n",
    "    return most_unique\n",
    "\n",
    "worr = str(input(\"Please Enter a String\")).lower()\n",
    "final = unique(worr)\n",
    "print(final)\n",
    "    "
   ]
  },
  {
   "cell_type": "code",
   "execution_count": 250,
   "id": "7a567bd5-07e3-4924-af62-4f8bdda946b9",
   "metadata": {},
   "outputs": [],
   "source": [
    "#46.\n",
    "\n"
   ]
  },
  {
   "cell_type": "code",
   "execution_count": 278,
   "id": "08a4b8cb-484c-4627-90fc-be558350121b",
   "metadata": {},
   "outputs": [
    {
     "name": "stdin",
     "output_type": "stream",
     "text": [
      "Please Enter a String ll\n"
     ]
    },
    {
     "name": "stdout",
     "output_type": "stream",
     "text": [
      "only alphabet\n"
     ]
    }
   ],
   "source": [
    "#47.\n",
    "\n",
    "def special(word):\n",
    "    \n",
    "    if word.isalpha():\n",
    "        print(\"only alphabet\")\n",
    "    else:\n",
    "        print(\"special character present\")\n",
    "\n",
    "\n",
    "\n",
    "worr = str(input(\"Please Enter a String\")).lower()\n",
    "special(worr)\n",
    "\n",
    "\n",
    "\n",
    "    "
   ]
  },
  {
   "cell_type": "code",
   "execution_count": 310,
   "id": "e686f100-9ea2-4c64-b576-aab26e6f008e",
   "metadata": {},
   "outputs": [
    {
     "name": "stdin",
     "output_type": "stream",
     "text": [
      "Please Enter a String ko lo mo no to\n",
      "Please Enter a String 3\n"
     ]
    },
    {
     "name": "stdout",
     "output_type": "stream",
     "text": [
      "ko lo mo to\n"
     ]
    }
   ],
   "source": [
    "#48.\n",
    "\n",
    "def remove_nth(word,nth):\n",
    "    listre = word.split()\n",
    "    final = listre.pop(nth)\n",
    "    final1 = ' '.join(listre)\n",
    "    return final1\n",
    "\n",
    "\n",
    "worr = str(input(\"Please Enter a String\")).lower()\n",
    "worr1 = int(input(\"Please Enter a String\"))\n",
    "final = remove_nth(worr,worr1)\n",
    "print(final)\n",
    "    \n",
    "\n"
   ]
  },
  {
   "cell_type": "code",
   "execution_count": 318,
   "id": "b658f3e0-49ef-4274-85a1-03f2b4eca8c2",
   "metadata": {},
   "outputs": [
    {
     "name": "stdin",
     "output_type": "stream",
     "text": [
      "Please Enter a String hii hi hi hi \n",
      "Please Enter a String 2\n",
      "Please Enter a String jhhh\n"
     ]
    },
    {
     "name": "stdout",
     "output_type": "stream",
     "text": [
      "hii hi jhhh hi hi\n"
     ]
    }
   ],
   "source": [
    "#49.\n",
    "\n",
    "def push_nth(word,nth,i):\n",
    "    listre = word.split()\n",
    "    final = listre.insert(nth,i)\n",
    "    final1 = ' '.join(listre)\n",
    "    return final1\n",
    "\n",
    "\n",
    "worr = str(input(\"Please Enter a String\")).lower()\n",
    "worr1 = int(input(\"Please Enter a String\"))\n",
    "worr2 = str(input(\"Please Enter a String\"))\n",
    "final = push_nth(worr,worr1,worr2)\n",
    "print(final)\n"
   ]
  },
  {
   "cell_type": "code",
   "execution_count": 320,
   "id": "14990cfc-a4ff-426f-a094-56d512236fe3",
   "metadata": {},
   "outputs": [],
   "source": [
    "#50.\n",
    "\n"
   ]
  },
  {
   "cell_type": "code",
   "execution_count": 1,
   "id": "eec8c0c4-de4a-4769-a006-11f36f43107b",
   "metadata": {},
   "outputs": [
    {
     "name": "stdout",
     "output_type": "stream",
     "text": [
      "[1, 2, 3, 4, 5, 6, 7, 8, 9, 10]\n"
     ]
    }
   ],
   "source": [
    "#51.\n",
    "\n",
    "listt = list(range(1,11))\n",
    "\n",
    "print(listt)"
   ]
  },
  {
   "cell_type": "code",
   "execution_count": 33,
   "id": "9c766d74-3be3-49e7-9a9d-5b7292770cd0",
   "metadata": {},
   "outputs": [
    {
     "name": "stdin",
     "output_type": "stream",
     "text": [
      "Please Enter a list 1,2,3,4\n"
     ]
    },
    {
     "name": "stdout",
     "output_type": "stream",
     "text": [
      "4\n"
     ]
    }
   ],
   "source": [
    "#52.\n",
    "\n",
    "def count_len(listt):\n",
    "    count = 0\n",
    "    for i in listt:\n",
    "        count += 1\n",
    "    return count\n",
    "\n",
    "worr1 = input(\"Please Enter a list\").split(',')\n",
    "final = count_len(worr1)\n",
    "print(final)"
   ]
  },
  {
   "cell_type": "code",
   "execution_count": 41,
   "id": "6d810a9f-e145-492e-8389-a52b5187ccac",
   "metadata": {},
   "outputs": [
    {
     "name": "stdin",
     "output_type": "stream",
     "text": [
      "Please Enter a list 1,2,3,4\n",
      "Please Enter a list 5\n"
     ]
    },
    {
     "name": "stdout",
     "output_type": "stream",
     "text": [
      "['1', '2', '3', '4', '5']\n"
     ]
    }
   ],
   "source": [
    "#53.\n",
    "\n",
    "def appendd(lis,n):\n",
    "    lis.append(n)\n",
    "    return lis\n",
    "\n",
    "worr1 = input(\"Please Enter a list\").split(',')\n",
    "worr2 = input(\"Please Enter a list\")\n",
    "final = appendd(worr1,worr2)\n",
    "print(final)\n"
   ]
  },
  {
   "cell_type": "code",
   "execution_count": 49,
   "id": "0d656859-21fe-48c1-9a2b-996a1b86e478",
   "metadata": {},
   "outputs": [
    {
     "name": "stdin",
     "output_type": "stream",
     "text": [
      "Please Enter a list 1,2,3,4\n",
      "Please Enter a list 1\n",
      "Please Enter a list 8\n"
     ]
    },
    {
     "name": "stdout",
     "output_type": "stream",
     "text": [
      "['1', '8', '2', '3', '4']\n"
     ]
    }
   ],
   "source": [
    "#54.\n",
    "\n",
    "def Insertt(lis,n,m):\n",
    "    lis.insert(n,m)\n",
    "    return lis\n",
    "\n",
    "worr1 = input(\"Please Enter a list\").split(',')\n",
    "worr2 = int(input(\"Please Enter a list\"))\n",
    "worr3 = input(\"Please Enter a list\")\n",
    "final = Insertt(worr1,worr2,worr3)\n",
    "print(final)"
   ]
  },
  {
   "cell_type": "code",
   "execution_count": 51,
   "id": "17e18266-d172-4342-a0e2-069b57d8a95f",
   "metadata": {},
   "outputs": [
    {
     "name": "stdin",
     "output_type": "stream",
     "text": [
      "Please Enter a list 1,2,3,4,5\n",
      "Please Enter a list 0\n"
     ]
    },
    {
     "name": "stdout",
     "output_type": "stream",
     "text": [
      "['2', '3', '4', '5']\n"
     ]
    }
   ],
   "source": [
    "#55.\n",
    "\n",
    "def Insertt(lis,n):\n",
    "    lis.pop(n)\n",
    "    return lis\n",
    "\n",
    "worr1 = input(\"Please Enter a list\").split(',')\n",
    "worr2 = int(input(\"Please Enter a list\"))\n",
    "#worr3 = input(\"Please Enter a list\")\n",
    "final = Insertt(worr1,worr2)\n",
    "print(final)"
   ]
  },
  {
   "cell_type": "code",
   "execution_count": 53,
   "id": "560d8ebf-ffbe-4a49-8510-cc92ba7eefbf",
   "metadata": {},
   "outputs": [
    {
     "name": "stdin",
     "output_type": "stream",
     "text": [
      "Please Enter a list 1,2,3,4,5\n",
      "Please Enter a list 2\n"
     ]
    },
    {
     "name": "stdout",
     "output_type": "stream",
     "text": [
      "['1', '3', '4', '5']\n"
     ]
    }
   ],
   "source": [
    "#56.\n",
    "\n",
    "def Insertt(lis,n):\n",
    "    lis.remove(n)\n",
    "    return lis\n",
    "\n",
    "worr1 = input(\"Please Enter a list\").split(',')\n",
    "worr2 = input(\"Please Enter a list\")\n",
    "#worr3 = input(\"Please Enter a list\")\n",
    "final = Insertt(worr1,worr2)\n",
    "print(final)\n"
   ]
  },
  {
   "cell_type": "code",
   "execution_count": 107,
   "id": "c755e491-8ce7-49ab-be3c-84ff9210e3a1",
   "metadata": {},
   "outputs": [
    {
     "name": "stdin",
     "output_type": "stream",
     "text": [
      "Please Enter a list banana,chilli,grave\n",
      "Please Enter a list grave\n"
     ]
    },
    {
     "name": "stdout",
     "output_type": "stream",
     "text": [
      "Yes grave present in list\n"
     ]
    }
   ],
   "source": [
    "#57.\n",
    "\n",
    "def find(lis,n):\n",
    "    for i in n:\n",
    "        if i in lis:\n",
    "            return(f'Yes {i} present in list')\n",
    "            \n",
    "    return(\"No\")\n",
    "\n",
    "\n",
    "\n",
    "\n",
    "worr1 = input(\"Please Enter a list\").split(',')\n",
    "worr2 = input(\"Please Enter a list\").split(',')\n",
    "#worr3 = input(\"Please Enter a list\")\n",
    "final = find(worr1,worr2)\n",
    "print(final)\n",
    "            \n",
    "\n"
   ]
  },
  {
   "cell_type": "code",
   "execution_count": 128,
   "id": "ec25f06b-b287-4a3c-ae8c-85fccf498001",
   "metadata": {},
   "outputs": [
    {
     "name": "stdin",
     "output_type": "stream",
     "text": [
      "Please Enter a list 1,2,3,4,5,\n",
      "Please Enter a list 2\n"
     ]
    },
    {
     "name": "stdout",
     "output_type": "stream",
     "text": [
      "1\n"
     ]
    }
   ],
   "source": [
    "#58.\n",
    "\n",
    "def find(lis,n):\n",
    "        if n in lis:\n",
    "            return lis.index(n)\n",
    "        else:\n",
    "            return(\"No\")\n",
    "\n",
    "\n",
    "\n",
    "\n",
    "worr1 = input(\"Please Enter a list\").split(',')\n",
    "worr2 = input(\"Please Enter a list\")\n",
    "#worr3 = input(\"Please Enter a list\")\n",
    "final = find(worr1,worr2)\n",
    "print(final)\n"
   ]
  },
  {
   "cell_type": "code",
   "execution_count": 142,
   "id": "c4984a91-7ea6-4e29-a859-a6af4db230d8",
   "metadata": {},
   "outputs": [
    {
     "name": "stdin",
     "output_type": "stream",
     "text": [
      "Please Enter a list 1,1,2,2,2,2\n",
      "Please Enter a list 2\n"
     ]
    },
    {
     "name": "stdout",
     "output_type": "stream",
     "text": [
      "4\n"
     ]
    }
   ],
   "source": [
    "#59.\n",
    "\n",
    "def countt(lis,n):\n",
    "    count = 0\n",
    "    for i in lis:\n",
    "        if i in n:\n",
    "            count += 1\n",
    "        else:\n",
    "            count\n",
    "\n",
    "    return count\n",
    "\n",
    "\n",
    "\n",
    "\n",
    "worr1 = input(\"Please Enter a list\").split(',')\n",
    "worr2 = input(\"Please Enter a list\")#.split(',')\n",
    "#worr3 = input(\"Please Enter a list\")\n",
    "final = countt(worr1,worr2)\n",
    "print(final)\n"
   ]
  },
  {
   "cell_type": "code",
   "execution_count": 152,
   "id": "39b3ed5b-4332-4f74-bc66-c86423ffc3db",
   "metadata": {},
   "outputs": [
    {
     "name": "stdin",
     "output_type": "stream",
     "text": [
      "Please Enter a list 1,2,3,4\n"
     ]
    },
    {
     "name": "stdout",
     "output_type": "stream",
     "text": [
      "['4', '3', '2', '1']\n"
     ]
    }
   ],
   "source": [
    "#60.\n",
    "\n",
    "def reverss(lis):\n",
    "    res = lis[::-1]\n",
    "    return res\n",
    "\n",
    "worr1 = input(\"Please Enter a list\").split(',')\n",
    "#worr2 = input(\"Please Enter a list\")\n",
    "#worr3 = input(\"Please Enter a list\")\n",
    "final = reverss(worr1)\n",
    "print(final)"
   ]
  },
  {
   "cell_type": "code",
   "execution_count": 14,
   "id": "aa5308fd-2be4-4f85-be05-0a54cf27bb46",
   "metadata": {},
   "outputs": [
    {
     "name": "stdin",
     "output_type": "stream",
     "text": [
      "Please Enter a list 3,5,1,2\n"
     ]
    },
    {
     "name": "stdout",
     "output_type": "stream",
     "text": [
      "['1', '2', '3', '5']\n"
     ]
    }
   ],
   "source": [
    "#61.\n",
    "def asc(lis):\n",
    "    lis.sort()\n",
    "    return lis\n",
    "worr1 = list(input(\"Please Enter a list\").split(','))\n",
    "final = asc(worr1)\n",
    "print(final)"
   ]
  },
  {
   "cell_type": "code",
   "execution_count": 16,
   "id": "c8a57850-09db-45e2-8b79-cd9051230549",
   "metadata": {},
   "outputs": [
    {
     "name": "stdin",
     "output_type": "stream",
     "text": [
      "Please Enter a list 1,2,3,4\n"
     ]
    },
    {
     "name": "stdout",
     "output_type": "stream",
     "text": [
      "['4', '3', '2', '1']\n"
     ]
    }
   ],
   "source": [
    "#62.\n",
    "def des(lis):\n",
    "    lis.sort(reverse=True)\n",
    "    return lis\n",
    "worr1 = list(input(\"Please Enter a list\").split(','))\n",
    "final = des(worr1)\n",
    "print(final)"
   ]
  },
  {
   "cell_type": "code",
   "execution_count": 30,
   "id": "ce588e4a-12cf-498e-a78a-c4b71e1f9ff8",
   "metadata": {},
   "outputs": [
    {
     "name": "stdout",
     "output_type": "stream",
     "text": [
      "[2, 4, 6, 8, 10, 12, 14, 16, 18, 20]\n"
     ]
    }
   ],
   "source": [
    "#63.\n",
    "def even():\n",
    "    wor=list(range(2,21,2))\n",
    "    return wor\n",
    "    \n",
    "print(even())\n"
   ]
  },
  {
   "cell_type": "code",
   "execution_count": 38,
   "id": "93a1c805-378c-4f88-9c45-5aff84a6959a",
   "metadata": {},
   "outputs": [
    {
     "name": "stdout",
     "output_type": "stream",
     "text": [
      "[1, 3, 5, 7, 9, 11, 13, 15, 17, 19]\n"
     ]
    }
   ],
   "source": [
    "#64.\n",
    "def odd():\n",
    "    wor=list(range(1,20,2))\n",
    "    return wor\n",
    "    \n",
    "print(odd())"
   ]
  },
  {
   "cell_type": "code",
   "execution_count": 60,
   "id": "8c5eb4dc-2c93-4979-93a0-bf9be8b72654",
   "metadata": {},
   "outputs": [
    {
     "name": "stdin",
     "output_type": "stream",
     "text": [
      "Please Enter a list 1, 3, 5, 7, 9, 11, 13, 15, 17, 19\n"
     ]
    },
    {
     "name": "stdout",
     "output_type": "stream",
     "text": [
      "100\n"
     ]
    }
   ],
   "source": [
    "#65.\n",
    "\n",
    "def sun(lis):\n",
    "    lin = [int(i) for i in lis]\n",
    "    summ = sum(lin)\n",
    "    return summ\n",
    "\n",
    "worr1 = (input(\"Please Enter a list\").split(','))\n",
    "final = sun(worr1)\n",
    "print(final)"
   ]
  },
  {
   "cell_type": "code",
   "execution_count": 3,
   "id": "384671fa-bf79-4af5-829e-edb67b201cb3",
   "metadata": {},
   "outputs": [
    {
     "name": "stdin",
     "output_type": "stream",
     "text": [
      "Please Enter a list 1, 3, 5, 7, 9, 11\n"
     ]
    },
    {
     "name": "stdout",
     "output_type": "stream",
     "text": [
      "11\n"
     ]
    }
   ],
   "source": [
    "#66.\n",
    "\n",
    "def maxx(lis):\n",
    "    lin = [int(i) for i in lis]\n",
    "    return max(lin)\n",
    "    \n",
    "\n",
    "worr1 = (input(\"Please Enter a list\").split(','))\n",
    "final = maxx(worr1)\n",
    "print(final)"
   ]
  },
  {
   "cell_type": "code",
   "execution_count": 1,
   "id": "b3fd63c4-2521-4519-937b-58d28b686bb6",
   "metadata": {},
   "outputs": [
    {
     "name": "stdin",
     "output_type": "stream",
     "text": [
      "Please Enter a list 1, 3, 5, 7, 9, 11\n"
     ]
    },
    {
     "name": "stdout",
     "output_type": "stream",
     "text": [
      "1\n"
     ]
    }
   ],
   "source": [
    "#67.\n",
    "\n",
    "def minn(lis):\n",
    "    lin = [int(i) for i in lis]\n",
    "    return min(lin)\n",
    "    \n",
    "\n",
    "worr1 = (input(\"Please Enter a list\").split(','))\n",
    "final = minn(worr1)\n",
    "print(final)\n"
   ]
  },
  {
   "cell_type": "code",
   "execution_count": 11,
   "id": "ed83fb98-7765-4149-84cd-34fd4141e8a3",
   "metadata": {},
   "outputs": [
    {
     "name": "stdout",
     "output_type": "stream",
     "text": [
      "[2, 4, 6, 8, 10, 12, 14, 16]\n"
     ]
    }
   ],
   "source": [
    "#68.\n",
    "\n",
    "def squr():\n",
    "    sqaurs = []\n",
    "    for i in range(1,9):\n",
    "        sqaurs.append (i**2)\n",
    "    return sqaurs\n",
    "    \n",
    "print(squr())"
   ]
  },
  {
   "cell_type": "code",
   "execution_count": null,
   "id": "cd8f2c3e-3e2c-46dd-a55a-469154a95f50",
   "metadata": {},
   "outputs": [],
   "source": [
    "#69.\n",
    "\n"
   ]
  },
  {
   "cell_type": "code",
   "execution_count": 35,
   "id": "310cd37b-7a32-46f2-b288-1ee77a3f42c1",
   "metadata": {},
   "outputs": [
    {
     "name": "stdin",
     "output_type": "stream",
     "text": [
      "Please Enter a list 2, 4, 6, 8,2,2\n"
     ]
    },
    {
     "name": "stdout",
     "output_type": "stream",
     "text": [
      "{8, 2, 4, 6}\n"
     ]
    }
   ],
   "source": [
    "#70.\n",
    "\n",
    "def dupli(lis):\n",
    "    lin = [int(i) for i in lis]\n",
    "    return set(lin)\n",
    "    \n",
    "\n",
    "worr1 = (input(\"Please Enter a list\").split(','))\n",
    "final = dupli(worr1)\n",
    "print(final)\n"
   ]
  },
  {
   "cell_type": "code",
   "execution_count": 53,
   "id": "a054484d-c2c2-445d-87b3-0a6a921b4c22",
   "metadata": {},
   "outputs": [
    {
     "name": "stdin",
     "output_type": "stream",
     "text": [
      "Please Enter a list 1,2,3\n",
      "Please Enter a list 1,2,3\n"
     ]
    },
    {
     "name": "stdout",
     "output_type": "stream",
     "text": [
      "[1, 2, 3]\n"
     ]
    }
   ],
   "source": [
    "#71.\n",
    "\n",
    "def duplii(l1,l2):\n",
    "    l1 = [int(i) for i in l1]\n",
    "    l2 = [int(i) for i in l2]\n",
    "    common = []\n",
    "    for i in l1:\n",
    "        if i in l2:\n",
    "            common.append(i)\n",
    "    return common\n",
    "worr1 = (input(\"Please Enter a list\").split(','))\n",
    "worr2 = (input(\"Please Enter a list\").split(','))\n",
    "final = duplii(worr1,worr2)\n",
    "print(final)\n"
   ]
  },
  {
   "cell_type": "code",
   "execution_count": 63,
   "id": "a18a70bc-47d4-4e06-b4c8-ab79d85119e2",
   "metadata": {},
   "outputs": [
    {
     "name": "stdin",
     "output_type": "stream",
     "text": [
      "Please Enter a list 1, 2, 3, 4, 5\n",
      "Please Enter a list 3, 4, 5, 6, 7\n"
     ]
    },
    {
     "name": "stdout",
     "output_type": "stream",
     "text": [
      "[1, 2]\n"
     ]
    }
   ],
   "source": [
    "#72.\n",
    "\n",
    "def diff(l1,l2):\n",
    "    l1 = [int(i) for i in l1]\n",
    "    l2 = [int(i) for i in l2]\n",
    "    diffre = []\n",
    "    for i in l1:\n",
    "        if i not in l2:\n",
    "            diffre.append(i)\n",
    "    return diffre\n",
    "worr1 = (input(\"Please Enter a list\").split(','))\n",
    "worr2 = (input(\"Please Enter a list\").split(','))\n",
    "final = diff(worr1,worr2)\n",
    "print(final)"
   ]
  },
  {
   "cell_type": "code",
   "execution_count": 66,
   "id": "0e1a86e3-8e65-43aa-b368-9940333c7309",
   "metadata": {},
   "outputs": [
    {
     "name": "stdin",
     "output_type": "stream",
     "text": [
      "Please Enter a list 1, 2, 3, 4, 5\n",
      "Please Enter a list 3, 4, 5, 6, 7\n"
     ]
    },
    {
     "name": "stdout",
     "output_type": "stream",
     "text": [
      "[1, 2, 3, 4, 5, 3, 4, 5, 6, 7]\n"
     ]
    }
   ],
   "source": [
    "#73.\n",
    "\n",
    "def diff(l1,l2):\n",
    "    l1 = [int(i) for i in l1]\n",
    "    l2 = [int(i) for i in l2]\n",
    "    l3 = l1+l2\n",
    "    return l3\n",
    "worr1 = (input(\"Please Enter a list\").split(','))\n",
    "worr2 = (input(\"Please Enter a list\").split(','))\n",
    "final = diff(worr1,worr2)\n",
    "print(final)\n"
   ]
  },
  {
   "cell_type": "code",
   "execution_count": 1,
   "id": "f2ecd001-9069-47a6-a2a2-bd970f9469d9",
   "metadata": {},
   "outputs": [
    {
     "name": "stdin",
     "output_type": "stream",
     "text": [
      "Please Enter a list 1,2,3\n"
     ]
    },
    {
     "name": "stdout",
     "output_type": "stream",
     "text": [
      "[2, 4, 6]\n"
     ]
    }
   ],
   "source": [
    "#74.\n",
    "\n",
    "def mult(l1):\n",
    "    l1 = [int(i) for i in l1]\n",
    "    ml = []\n",
    "    for i in l1:\n",
    "        ml.append(i*2)\n",
    "    return ml\n",
    "\n",
    "worr2 = (input(\"Please Enter a list\").split(','))\n",
    "final = mult(worr2)\n",
    "print(final)\n"
   ]
  },
  {
   "cell_type": "code",
   "execution_count": 17,
   "id": "440dd3dd-d769-49b3-a296-4abe04a6c60b",
   "metadata": {},
   "outputs": [
    {
     "name": "stdin",
     "output_type": "stream",
     "text": [
      "Please Enter a list 1,2,4,6\n"
     ]
    },
    {
     "name": "stdout",
     "output_type": "stream",
     "text": [
      "[2, 4, 6]\n"
     ]
    }
   ],
   "source": [
    "#75.\n",
    "\n",
    "def even(l1):\n",
    "    l1 = [int(i) for i in l1]\n",
    "    ml = []\n",
    "    for i in l1:\n",
    "        if i%2==0:\n",
    "            ml.append(i)\n",
    "    return ml\n",
    "\n",
    "worr2 = (input(\"Please Enter a list\").split(','))\n",
    "final = even(worr2)\n",
    "print(final)\n"
   ]
  },
  {
   "cell_type": "code",
   "execution_count": 35,
   "id": "3be3337a-6646-43ec-b9a2-b6ef88685233",
   "metadata": {},
   "outputs": [
    {
     "name": "stdin",
     "output_type": "stream",
     "text": [
      "Please Enter a list 1,2\n"
     ]
    },
    {
     "name": "stdout",
     "output_type": "stream",
     "text": [
      "[1, 2]\n"
     ]
    }
   ],
   "source": [
    "#76.\n",
    "\n",
    "def strin(lis):\n",
    "    lin = [int(i) for i in lis]\n",
    "    return lin\n",
    "    \n",
    "\n",
    "worr1 = (input(\"Please Enter a list\").split(','))\n",
    "final = strin(worr1)\n",
    "print(final)"
   ]
  },
  {
   "cell_type": "code",
   "execution_count": 37,
   "id": "e99dc1a4-2073-4bec-9dd3-6a09d3eb4394",
   "metadata": {},
   "outputs": [
    {
     "name": "stdin",
     "output_type": "stream",
     "text": [
      "Please Enter a list 1,2,3\n"
     ]
    },
    {
     "name": "stdout",
     "output_type": "stream",
     "text": [
      "['1', '2', '3']\n"
     ]
    }
   ],
   "source": [
    "#77.\n",
    "\n",
    "def inli(lis):\n",
    "    lin = [str(i) for i in lis]\n",
    "    return lin\n",
    "    \n",
    "\n",
    "worr1 = (input(\"Please Enter a list\").split(','))\n",
    "final = inli(worr1)\n",
    "print(final)"
   ]
  },
  {
   "cell_type": "code",
   "execution_count": 2,
   "id": "1fc4f812-030c-402c-818b-795b253b0c9e",
   "metadata": {},
   "outputs": [],
   "source": [
    "#78.\n",
    "\n"
   ]
  },
  {
   "cell_type": "code",
   "execution_count": 4,
   "id": "b9f01934-7f22-4a8f-b108-97f3d00f9ec7",
   "metadata": {},
   "outputs": [
    {
     "name": "stdout",
     "output_type": "stream",
     "text": [
      "[0, 1, 1, 2, 3, 5, 8, 13, 21, 34]\n"
     ]
    }
   ],
   "source": [
    "#79.\n",
    "\n",
    "def fibn(n):\n",
    "    fib_n = [0,1]\n",
    "    for _ in range(n-2):\n",
    "        fib_n.append(fib_n[-1]+fib_n[-2])\n",
    "    return fib_n\n",
    "\n",
    "fibnn  = fibn(10)\n",
    "print(fibnn)"
   ]
  },
  {
   "cell_type": "code",
   "execution_count": 38,
   "id": "159539d7-732d-485d-8640-300aefc4e07a",
   "metadata": {},
   "outputs": [
    {
     "name": "stdin",
     "output_type": "stream",
     "text": [
      "Please Enter a list 1,2,3\n"
     ]
    },
    {
     "name": "stdout",
     "output_type": "stream",
     "text": [
      "True\n"
     ]
    }
   ],
   "source": [
    "#80.\n",
    "\n",
    "def chksor(lis):\n",
    "    for i in range(len(lis)-1):\n",
    "        if lis[i]>lis[i+1]:\n",
    "            return False\n",
    "    return True\n",
    "\n",
    "worr1 = list(map(int,input(\"Please Enter a list\").split(',')))\n",
    "final = chksor(worr1)\n",
    "print(final)"
   ]
  },
  {
   "cell_type": "code",
   "execution_count": 50,
   "id": "80fcc435-14c0-4870-ab18-7bb3283cb70b",
   "metadata": {},
   "outputs": [
    {
     "name": "stdin",
     "output_type": "stream",
     "text": [
      "Please Enter a list 1,2,3,4,5,6,7\n"
     ]
    },
    {
     "name": "stdout",
     "output_type": "stream",
     "text": [
      "[3, 4, 5, 6, 7, 1, 2]\n"
     ]
    }
   ],
   "source": [
    "#81.\n",
    "\n",
    "def rotr(lis,n):\n",
    "    if n == n%len(lis):\n",
    "        return lis[n:] + lis[:n]\n",
    "\n",
    "worr1 = list(map(int,input(\"Please Enter a list\").split(',')))\n",
    "final = rotr(worr1,2)\n",
    "print(final)\n"
   ]
  },
  {
   "cell_type": "code",
   "execution_count": 58,
   "id": "c8b374bb-5c2e-48e8-be4d-7161c0c487c4",
   "metadata": {},
   "outputs": [
    {
     "name": "stdin",
     "output_type": "stream",
     "text": [
      "Please Enter a list 1,2,3,4,5,6,7\n"
     ]
    },
    {
     "name": "stdout",
     "output_type": "stream",
     "text": [
      "[6, 7, 1, 2, 3, 4, 5]\n"
     ]
    }
   ],
   "source": [
    "#82\n",
    "\n",
    "def rotl(lis,n):\n",
    "    if n == n%len(lis):\n",
    "        return lis[-n:] + lis[:-n]\n",
    "\n",
    "worr1 = list(map(int,input(\"Please Enter a list\").split(',')))\n",
    "final = rotl(worr1,2)\n",
    "print(final)"
   ]
  },
  {
   "cell_type": "code",
   "execution_count": 102,
   "id": "f395b9ff-52d1-4227-a028-87007ad75458",
   "metadata": {},
   "outputs": [
    {
     "name": "stdout",
     "output_type": "stream",
     "text": [
      "[2, 3, 5, 7, 11, 13, 17, 19, 23, 29, 31, 37, 41, 43, 47]\n"
     ]
    }
   ],
   "source": [
    "#83.\n",
    "\n",
    "def prime(n):\n",
    "    if n < 2:\n",
    "        return False\n",
    "    for i in range(2, int(n**0.5) +1):\n",
    "        if n % i == 0:\n",
    "            return False\n",
    "    return True\n",
    "primes = [num for num in range(2,51) if prime(num)]\n",
    "print(primes)\n",
    "\n",
    "\n"
   ]
  },
  {
   "cell_type": "code",
   "execution_count": 110,
   "id": "12095546-6dd9-4f8e-9ae8-af118a128daf",
   "metadata": {},
   "outputs": [
    {
     "name": "stdout",
     "output_type": "stream",
     "text": [
      "[[1, 2, 3, 4], [5, 6, 7, 8], [9]]\n"
     ]
    }
   ],
   "source": [
    "#84.\n",
    "\n",
    "def split_into_chunks(lst, n):\n",
    "    chunks = []\n",
    "    for i in range(0, len(lst), n):\n",
    "        chunks.append(lst[i:i + n])\n",
    "    return chunks\n",
    "my_list=[1,2,3,4,5,6,7,8,9]\n",
    "chunk_size = 4\n",
    "print(split_into_chunks(my_list, chunk_size))\n",
    "\n"
   ]
  },
  {
   "cell_type": "code",
   "execution_count": 134,
   "id": "038f2980-c46a-45f6-9146-56d674db57e9",
   "metadata": {},
   "outputs": [
    {
     "name": "stdout",
     "output_type": "stream",
     "text": [
      "11\n"
     ]
    }
   ],
   "source": [
    "#85.\n",
    "\n",
    "def seclar(lst):\n",
    "    lis1 = list(set(lst))\n",
    "    if len(lis1) < 2:\n",
    "        return none\n",
    "    else:\n",
    "        lis1.sort(reverse = True)\n",
    "        return lis1[0]\n",
    "\n",
    "my_list=[3,8,4,6,11,7,2,9]\n",
    "#chunk_size = 4\n",
    "print(seclar(my_list))\n",
    "\n"
   ]
  },
  {
   "cell_type": "code",
   "execution_count": 5,
   "id": "7a59d5bd-4b4c-443f-8d54-a5c5bd67c386",
   "metadata": {},
   "outputs": [
    {
     "name": "stdout",
     "output_type": "stream",
     "text": [
      "[9, 64, 16, 36, 121, 49, 4, 81]\n"
     ]
    }
   ],
   "source": [
    "#86.\n",
    "\n",
    "def sqr(lst):\n",
    "    squr  = []\n",
    "    for i in range (len(lst)):\n",
    "        squr.append(lst[i]**2)\n",
    "\n",
    "    return squr\n",
    "\n",
    "my_list=[3,8,4,6,11,7,2,9]\n",
    "print(sqr(my_list))"
   ]
  },
  {
   "cell_type": "code",
   "execution_count": 7,
   "id": "b9b9a80a-f2e9-4bcf-861b-8bed01e61391",
   "metadata": {},
   "outputs": [
    {
     "name": "stdout",
     "output_type": "stream",
     "text": [
      "{3: 0, 8: 1, 4: 2, 6: 3, 11: 4, 7: 5, 2: 6, 9: 7}\n"
     ]
    }
   ],
   "source": [
    "#87.\n",
    "\n",
    "def dictt(lst):\n",
    "    d = {}\n",
    "    for i in range(len(lst)):\n",
    "        d[lst[i]] = i\n",
    "\n",
    "    return d\n",
    "\n",
    "my_list=[3,8,4,6,11,7,2,9]\n",
    "print(dictt(my_list))\n"
   ]
  },
  {
   "cell_type": "code",
   "execution_count": 15,
   "id": "32e6ea05-3fa8-4759-a488-20b52d70f197",
   "metadata": {},
   "outputs": [],
   "source": [
    "#88.\n",
    "\n"
   ]
  },
  {
   "cell_type": "code",
   "execution_count": 13,
   "id": "2a736c3c-678a-4afb-93dc-008c6f553b3f",
   "metadata": {},
   "outputs": [
    {
     "name": "stdout",
     "output_type": "stream",
     "text": [
      "[1, 2, 6, 24, 120, 720, 5040, 40320, 362880, 3628800, 39916800]\n"
     ]
    }
   ],
   "source": [
    "#89.\n",
    "\n",
    "def fact(n):\n",
    "    fact = 1\n",
    "    result = []\n",
    "    for i in range(1,n+1):\n",
    "        fact *=i\n",
    "        result.append(fact)\n",
    "    return result\n",
    "\n",
    "print(fact(11))"
   ]
  },
  {
   "cell_type": "code",
   "execution_count": 17,
   "id": "aee183be-1548-49a9-a549-4102b20fbb51",
   "metadata": {},
   "outputs": [
    {
     "name": "stdout",
     "output_type": "stream",
     "text": [
      "True\n"
     ]
    }
   ],
   "source": [
    "#90.\n",
    "\n",
    "def chck(l1,l2):\n",
    "    for i in l1:\n",
    "        if i in l2:\n",
    "            return True\n",
    "\n",
    "    return False\n",
    "\n",
    "my_list=[3,8,4,6,11,7,2,9]\n",
    "my_list1=[12,42,84,96,75,3]\n",
    "print(chck(my_list,my_list1))"
   ]
  },
  {
   "cell_type": "code",
   "execution_count": 25,
   "id": "bed9d8c0-47a5-4e69-a71e-ce46b704819a",
   "metadata": {},
   "outputs": [
    {
     "name": "stdout",
     "output_type": "stream",
     "text": [
      "None\n"
     ]
    }
   ],
   "source": [
    "#91.\n",
    "\n",
    "def reall(l1):\n",
    "    return l1.clear()\n",
    "\n",
    "my_list=[12,42,84,96,75,3]\n",
    "print(reall(my_list))"
   ]
  },
  {
   "cell_type": "code",
   "execution_count": 7,
   "id": "950773e8-2e9a-4ae0-acbb-70e4cbb9e426",
   "metadata": {},
   "outputs": [
    {
     "name": "stdout",
     "output_type": "stream",
     "text": [
      "[12, 42, 0, 96, 0, 0]\n"
     ]
    }
   ],
   "source": [
    "#92.\n",
    "\n",
    "def minck(l1):\n",
    "    for i in range(len(l1)):\n",
    "        if l1[i] < 0:\n",
    "            l1[i] = 0\n",
    "    return l1\n",
    "\n",
    "my_list=[12,42,-2,96,-2,-3]\n",
    "print(minck(my_list))"
   ]
  },
  {
   "cell_type": "code",
   "execution_count": 13,
   "id": "f724eb99-6bf4-462c-bb06-0849705b51c7",
   "metadata": {},
   "outputs": [
    {
     "name": "stdout",
     "output_type": "stream",
     "text": [
      "['Hello', 'Gaandu']\n"
     ]
    }
   ],
   "source": [
    "#93.\n",
    "\n",
    "def my(stri):\n",
    "    return stri.split()\n",
    "\n",
    "my_list=\"Hello Gaandu\"\n",
    "print(my(my_list))"
   ]
  },
  {
   "cell_type": "code",
   "execution_count": 19,
   "id": "f9d3a031-e680-4dc2-b853-4e1090cb4aa3",
   "metadata": {},
   "outputs": [
    {
     "name": "stdout",
     "output_type": "stream",
     "text": [
      "hello my name is\n"
     ]
    }
   ],
   "source": [
    "#94.\n",
    "\n",
    "def my1(lst1):\n",
    "    return ' '.join(lst1)\n",
    "\n",
    "my_list=[\"hello\",\"my\",\"name\",\"is\"]\n",
    "print(my1(my_list))"
   ]
  },
  {
   "cell_type": "code",
   "execution_count": 31,
   "id": "f5d8d2a7-e9be-4751-afe8-11cb28aa3194",
   "metadata": {},
   "outputs": [
    {
     "name": "stdout",
     "output_type": "stream",
     "text": [
      "[4, 25, 49, 36]\n"
     ]
    }
   ],
   "source": [
    "#95.\n",
    "\n",
    "def my2(n):\n",
    "    result = []\n",
    "    for i in n:\n",
    "        result.append(i**2)\n",
    "    return result\n",
    "\n",
    "my_list=[2,5,7,6]\n",
    "print(my2(my_list))"
   ]
  },
  {
   "cell_type": "code",
   "execution_count": 61,
   "id": "918a1c01-4f52-4fd7-a0a6-2ae825af4eb9",
   "metadata": {},
   "outputs": [
    {
     "name": "stdout",
     "output_type": "stream",
     "text": [
      "koiloo\n"
     ]
    }
   ],
   "source": [
    "#96.\n",
    "\n",
    "def my3(l1):\n",
    "    new = \" \" \n",
    "    for i in l1:\n",
    "        if len(i) > len(new):\n",
    "            new = i\n",
    "    return new\n",
    "\n",
    "my_list=[\"heelo\",\"koli\",\"koiloo\",\"mi\"]\n",
    "print(my3(my_list))"
   ]
  },
  {
   "cell_type": "code",
   "execution_count": 7,
   "id": "a9685377-5803-4a87-ac0c-f55a9d38086f",
   "metadata": {},
   "outputs": [
    {
     "name": "stdout",
     "output_type": "stream",
     "text": [
      "mi\n"
     ]
    }
   ],
   "source": [
    "#97.\n",
    "\n",
    "def my4(l1):\n",
    "    return min(l1,key = len)\n",
    "\n",
    "my_list=[\"heelo\",\"koli\",\"koiloo\",\"mi\"]\n",
    "print(my4(my_list))"
   ]
  },
  {
   "cell_type": "code",
   "execution_count": 19,
   "id": "28d13c0d-f132-4a15-b7a1-9f6bc3a5b05a",
   "metadata": {},
   "outputs": [
    {
     "name": "stdout",
     "output_type": "stream",
     "text": [
      "[1, 3, 6, 10, 15]\n"
     ]
    }
   ],
   "source": [
    "#98.\n",
    "\n",
    "def my5(l1):\n",
    "    result = [] \n",
    "    for i in range(1, l1 + 1):\n",
    "        result.append(i*(i+1)//2)\n",
    "    return result\n",
    "\n",
    "my_list= 5 \n",
    "print(my5(my_list))\n",
    "        "
   ]
  },
  {
   "cell_type": "code",
   "execution_count": 7,
   "id": "6d3f3b27-bc6f-461e-bf17-0fc1b82bd349",
   "metadata": {},
   "outputs": [
    {
     "name": "stdout",
     "output_type": "stream",
     "text": [
      "[1, 4, 3, 2, 5, 6, 7, 8, 9]\n"
     ]
    }
   ],
   "source": [
    "#100.\n",
    "\n",
    "def my6(l1,index1,index2):\n",
    "    l1[index1],l1[index2]=l1[index2],l1[index1]\n",
    "    return l1\n",
    "my_list= [1,2,3,4,5,6,7,8,9]\n",
    "i1 = 1\n",
    "i2 = 3\n",
    "goo = my6(my_list,i1,i2)\n",
    "print(goo)"
   ]
  },
  {
   "cell_type": "code",
   "execution_count": 3,
   "id": "383c0444-b42f-4d23-a32c-5c14c59c8390",
   "metadata": {},
   "outputs": [
    {
     "name": "stdout",
     "output_type": "stream",
     "text": [
      "(1, 2, 3, 4, 5)\n"
     ]
    }
   ],
   "source": [
    "#101.\n",
    "\n",
    "mytupp = (1,2,3,4,5)\n",
    "print(mytupp)"
   ]
  },
  {
   "cell_type": "code",
   "execution_count": 21,
   "id": "f2ee364a-7033-4281-bf02-d406bbdfe06b",
   "metadata": {},
   "outputs": [
    {
     "name": "stdout",
     "output_type": "stream",
     "text": [
      "4\n"
     ]
    }
   ],
   "source": [
    "#102.\n",
    "\n",
    "mytupp = (1,2,3,4,5)\n",
    "print(mytupp[3])"
   ]
  },
  {
   "cell_type": "code",
   "execution_count": 23,
   "id": "a1658928-ebd6-4a45-afd8-02bc34b8c0dd",
   "metadata": {},
   "outputs": [
    {
     "name": "stdout",
     "output_type": "stream",
     "text": [
      "Length of the tuple: 5\n"
     ]
    }
   ],
   "source": [
    "#103.\n",
    "\n",
    "my_tuple = (1, 2, 3, 4, 5)\n",
    "\n",
    "count = 0\n",
    "for _ in my_tuple:\n",
    "    count += 1\n",
    "\n",
    "print(\"Length of the tuple:\", count)\n"
   ]
  },
  {
   "cell_type": "code",
   "execution_count": 5,
   "id": "3a847c09-3da4-407e-9193-68468bb0791c",
   "metadata": {},
   "outputs": [
    {
     "name": "stdout",
     "output_type": "stream",
     "text": [
      "1\n"
     ]
    }
   ],
   "source": [
    "#104.\n",
    "\n",
    "def coun(tup):\n",
    "    element = 2\n",
    "    occ = 0\n",
    "    for i in tup:\n",
    "        if i == element:\n",
    "            occ +=1\n",
    "    return occ\n",
    "\n",
    "my_tuple = (1, 2, 3, 4, 5)\n",
    "print(coun(my_tuple))"
   ]
  },
  {
   "cell_type": "code",
   "execution_count": 7,
   "id": "47fb883a-75ca-41e9-bac1-61acc8befe4d",
   "metadata": {},
   "outputs": [
    {
     "name": "stdout",
     "output_type": "stream",
     "text": [
      "First occurrence of 20 is at index: 1\n"
     ]
    }
   ],
   "source": [
    "#105.\n",
    "\n",
    "my_tuple = (10, 20, 30, 40, 20, 50)\n",
    "element = 20\n",
    "\n",
    "index = my_tuple.index(element)\n",
    "print(f\"First occurrence of {element} is at index: {index}\")\n"
   ]
  },
  {
   "cell_type": "code",
   "execution_count": 17,
   "id": "5305900a-e03b-49ce-941d-df3bea80e30c",
   "metadata": {},
   "outputs": [
    {
     "name": "stdout",
     "output_type": "stream",
     "text": [
      "False\n"
     ]
    }
   ],
   "source": [
    "#106.\n",
    "\n",
    "my_tuple = (10, 20, 30, 40, 20, 50)\n",
    "element = 90\n",
    "\n",
    "if element in my_tuple:\n",
    "    print(True) \n",
    "else:\n",
    "    print(False)\n",
    "\n"
   ]
  },
  {
   "cell_type": "code",
   "execution_count": 19,
   "id": "810a35c8-17f3-4f5c-831d-1cd397ec1609",
   "metadata": {},
   "outputs": [
    {
     "data": {
      "text/plain": [
       "list"
      ]
     },
     "execution_count": 19,
     "metadata": {},
     "output_type": "execute_result"
    }
   ],
   "source": [
    "#107.\n",
    "\n",
    "my_tuple = (10, 20, 30, 40, 20, 50)\n",
    "l = list(my_tuple)\n",
    "type(l)"
   ]
  },
  {
   "cell_type": "code",
   "execution_count": 21,
   "id": "56d34780-1812-4286-8ec6-6bd064294a08",
   "metadata": {},
   "outputs": [
    {
     "data": {
      "text/plain": [
       "tuple"
      ]
     },
     "execution_count": 21,
     "metadata": {},
     "output_type": "execute_result"
    }
   ],
   "source": [
    "#108.\n",
    "\n",
    "my_tuple = (10, 20, 30, 40, 20, 50)\n",
    "l = list(my_tuple)\n",
    "t = tuple(l)\n",
    "type(t)"
   ]
  },
  {
   "cell_type": "code",
   "execution_count": 27,
   "id": "618e7bdc-8265-479b-9762-46074d7a36cf",
   "metadata": {},
   "outputs": [
    {
     "name": "stdout",
     "output_type": "stream",
     "text": [
      "10\n",
      "20\n",
      "30\n",
      "[40, 20, 50]\n"
     ]
    }
   ],
   "source": [
    "#109.\n",
    "\n",
    "my_tuple = (10, 20, 30, 40, 20, 50)\n",
    "\n",
    "(a,b,c,*d) = my_tuple\n",
    "\n",
    "print(a)\n",
    "print(b)\n",
    "print(c)\n",
    "print(d)"
   ]
  },
  {
   "cell_type": "code",
   "execution_count": 33,
   "id": "27cd0fae-af4f-4592-b617-762f372e12ed",
   "metadata": {},
   "outputs": [
    {
     "name": "stdout",
     "output_type": "stream",
     "text": [
      "(2, 4, 6, 8)\n"
     ]
    }
   ],
   "source": [
    "#110.\n",
    "\n",
    "even = []\n",
    "for i in range(1,10):\n",
    "    if i%2 == 0:\n",
    "        even.append(i)\n",
    "\n",
    "tup =tuple(even)\n",
    "print(tup)"
   ]
  },
  {
   "cell_type": "code",
   "execution_count": 35,
   "id": "e04f5e83-8fb2-487b-a55c-82cb46d6aa7c",
   "metadata": {},
   "outputs": [
    {
     "name": "stdout",
     "output_type": "stream",
     "text": [
      "(1, 3, 5, 7, 9)\n"
     ]
    }
   ],
   "source": [
    "#111.\n",
    "\n",
    "even = []\n",
    "for i in range(1,11):\n",
    "    if i%2 != 0:\n",
    "        even.append(i)\n",
    "\n",
    "tup =tuple(even)\n",
    "print(tup)"
   ]
  },
  {
   "cell_type": "code",
   "execution_count": 37,
   "id": "b72745b0-cd88-4abc-84ff-341c006bbcd3",
   "metadata": {},
   "outputs": [
    {
     "name": "stdout",
     "output_type": "stream",
     "text": [
      "(10, 20, 30, 40, 20, 50, 10, 20, 30, 40, 20, 50)\n"
     ]
    }
   ],
   "source": [
    "#112.\n",
    "\n",
    "my_tuple = (10, 20, 30, 40, 20, 50)\n",
    "my_tuple1 = (10, 20, 30, 40, 20, 50)\n",
    "new = my_tuple+my_tuple1\n",
    "print(new)"
   ]
  },
  {
   "cell_type": "code",
   "execution_count": 39,
   "id": "b6113b64-7766-4a11-9ad4-bbc4629f791d",
   "metadata": {},
   "outputs": [
    {
     "name": "stdout",
     "output_type": "stream",
     "text": [
      "(10, 20, 30, 40, 20, 50, 10, 20, 30, 40, 20, 50, 10, 20, 30, 40, 20, 50)\n"
     ]
    }
   ],
   "source": [
    "#113.\n",
    "\n",
    "my_tuple = (10, 20, 30, 40, 20, 50)\n",
    "new = my_tuple*3\n",
    "print(new)"
   ]
  },
  {
   "cell_type": "code",
   "execution_count": 49,
   "id": "7b9f8c71-cf91-4e41-a498-7f51de3ba04d",
   "metadata": {},
   "outputs": [
    {
     "name": "stdout",
     "output_type": "stream",
     "text": [
      "Empty\n"
     ]
    }
   ],
   "source": [
    "#114.\n",
    "\n",
    "my_tuple = ()\n",
    "if len(my_tuple) == 0:\n",
    "    print(\"Empty\")\n",
    "else:\n",
    "    print(\"not empty\")\n",
    "\n"
   ]
  },
  {
   "cell_type": "code",
   "execution_count": 53,
   "id": "4b916670-1948-4f09-9830-02f94b6dd03e",
   "metadata": {},
   "outputs": [
    {
     "name": "stdout",
     "output_type": "stream",
     "text": [
      "(10, 20, 30, (40, 20, 50, (10, 20, 30, 40), 20, 50, 10), 20, 30, 40, 20, 50)\n"
     ]
    }
   ],
   "source": [
    "#115.\n",
    "\n",
    "my_tuple = (10, 20, 30, (40, 20, 50, (10, 20, 30, 40), 20, 50, 10), 20, 30, 40, 20, 50)\n",
    "print(my_tuple)\n"
   ]
  },
  {
   "cell_type": "code",
   "execution_count": 55,
   "id": "322190ec-b2c2-473f-b1d9-81a603c8ad51",
   "metadata": {},
   "outputs": [
    {
     "data": {
      "text/plain": [
       "(10, 20, 30)"
      ]
     },
     "execution_count": 55,
     "metadata": {},
     "output_type": "execute_result"
    }
   ],
   "source": [
    "#116.\n",
    "\n",
    "my_tuple = ((10, 20, 30), (40, 20, 50), (10, 20, 30, 40), (20, 50, 10, 20, 30, 40, 20, 50))\n",
    "(my_tuple[0])"
   ]
  },
  {
   "cell_type": "code",
   "execution_count": 65,
   "id": "62eb1f39-a623-4bf3-b5f1-a520ff71691f",
   "metadata": {},
   "outputs": [
    {
     "name": "stdout",
     "output_type": "stream",
     "text": [
      "(8,)\n"
     ]
    },
    {
     "data": {
      "text/plain": [
       "tuple"
      ]
     },
     "execution_count": 65,
     "metadata": {},
     "output_type": "execute_result"
    }
   ],
   "source": [
    "#117.\n",
    "\n",
    "my_tuple = (8,)\n",
    "print(my_tuple)\n",
    "type(my_tuple)"
   ]
  },
  {
   "cell_type": "code",
   "execution_count": 67,
   "id": "c32e154b-b677-4d9e-8701-c9e20d1b6e8c",
   "metadata": {},
   "outputs": [
    {
     "name": "stdout",
     "output_type": "stream",
     "text": [
      "True\n",
      "False\n",
      "False\n"
     ]
    }
   ],
   "source": [
    "#118.\n",
    "\n",
    "my_tuple = (10, 20, 30, 40, 20, 50)\n",
    "my_tuple1 = (10, 20, 30, 40, 20, 50)\n",
    "print(my_tuple == my_tuple1)\n",
    "print(my_tuple > my_tuple1)\n",
    "print(my_tuple < my_tuple1)"
   ]
  },
  {
   "cell_type": "code",
   "execution_count": 79,
   "id": "f12a2532-614c-405b-a0c0-1011b71a35c4",
   "metadata": {},
   "outputs": [],
   "source": [
    "#119.\n",
    "\n",
    "my_tuple = (10, 20, 30, 40, 20, 50)\n",
    "del my_tuple\n"
   ]
  },
  {
   "cell_type": "code",
   "execution_count": 85,
   "id": "0af39dc6-92d8-433a-8137-c692de84f9d1",
   "metadata": {},
   "outputs": [
    {
     "name": "stdout",
     "output_type": "stream",
     "text": [
      "(20, 30)\n"
     ]
    }
   ],
   "source": [
    "#120.\n",
    "\n",
    "my_tuple = (10, 20, 30, 40, 20, 50)\n",
    "print(my_tuple[1:3])\n"
   ]
  },
  {
   "cell_type": "code",
   "execution_count": 93,
   "id": "ad0ab213-b376-4034-bcbd-126a0ca71508",
   "metadata": {},
   "outputs": [
    {
     "data": {
      "text/plain": [
       "50"
      ]
     },
     "execution_count": 93,
     "metadata": {},
     "output_type": "execute_result"
    }
   ],
   "source": [
    "#121.\n",
    "\n",
    "my_tuple = (10, 20, 30, 40, 20, 50)\n",
    "max(my_tuple)"
   ]
  },
  {
   "cell_type": "code",
   "execution_count": 95,
   "id": "2fece997-d4ab-4442-b844-c7036e2c7f55",
   "metadata": {},
   "outputs": [
    {
     "data": {
      "text/plain": [
       "10"
      ]
     },
     "execution_count": 95,
     "metadata": {},
     "output_type": "execute_result"
    }
   ],
   "source": [
    "#122.\n",
    "\n",
    "my_tuple = (10, 20, 30, 40, 20, 50)\n",
    "min(my_tuple)"
   ]
  },
  {
   "cell_type": "code",
   "execution_count": 97,
   "id": "1401c8f9-8391-41ba-b48c-45abc675617f",
   "metadata": {},
   "outputs": [
    {
     "name": "stdout",
     "output_type": "stream",
     "text": [
      "('h', 'e', 'l', 'l', 'o')\n"
     ]
    },
    {
     "data": {
      "text/plain": [
       "tuple"
      ]
     },
     "execution_count": 97,
     "metadata": {},
     "output_type": "execute_result"
    }
   ],
   "source": [
    "#123.\n",
    "\n",
    "my_string = (\"hello\")\n",
    "tup = tuple(my_string)\n",
    "print(tup)\n",
    "type(tup)\n"
   ]
  },
  {
   "cell_type": "code",
   "execution_count": 101,
   "id": "60b5b4de-2f57-4fc7-a965-b8fc19ad44cd",
   "metadata": {},
   "outputs": [
    {
     "name": "stdout",
     "output_type": "stream",
     "text": [
      "hello\n"
     ]
    },
    {
     "data": {
      "text/plain": [
       "str"
      ]
     },
     "execution_count": 101,
     "metadata": {},
     "output_type": "execute_result"
    }
   ],
   "source": [
    "#124.\n",
    "\n",
    "my_tupel = ('h','e','l','l','o')\n",
    "tup = ''.join(my_tupel)\n",
    "print(tup)"
   ]
  },
  {
   "cell_type": "code",
   "execution_count": 103,
   "id": "ec824804-c8b2-4070-b1ba-71f51b216181",
   "metadata": {},
   "outputs": [
    {
     "name": "stdout",
     "output_type": "stream",
     "text": [
      "('hello', 1, True, False)\n"
     ]
    }
   ],
   "source": [
    "#125.\n",
    "\n",
    "\n",
    "my_tupel = (\"hello\",1,True,False,)\n",
    "print(my_tupel)\n"
   ]
  },
  {
   "cell_type": "code",
   "execution_count": 107,
   "id": "315a3b05-e826-4700-a624-177c68ceded7",
   "metadata": {},
   "outputs": [
    {
     "name": "stdout",
     "output_type": "stream",
     "text": [
      "True\n",
      "False\n"
     ]
    }
   ],
   "source": [
    "#126.\n",
    "\n",
    "tuple1 = (1, 2, 3)\n",
    "tuple2 = (1, 2, 3)\n",
    "tuple3 = (3, 2, 1)\n",
    "\n",
    "print(tuple1 == tuple2)  \n",
    "print(tuple1 == tuple3)  \n"
   ]
  },
  {
   "cell_type": "code",
   "execution_count": 115,
   "id": "635222e4-d16d-4bd8-8670-c32712016381",
   "metadata": {},
   "outputs": [
    {
     "name": "stdout",
     "output_type": "stream",
     "text": [
      "[10, 20, 20, 30, 40, 50]\n"
     ]
    }
   ],
   "source": [
    "#127.\n",
    "\n",
    "my_tuple = (10, 20, 30, 40, 20, 50)\n",
    "s=sorted(my_tuple)\n",
    "print(s)"
   ]
  },
  {
   "cell_type": "code",
   "execution_count": 119,
   "id": "9b551310-3591-4cc0-81b1-19efc17270cb",
   "metadata": {},
   "outputs": [
    {
     "name": "stdout",
     "output_type": "stream",
     "text": [
      "<class 'tuple'>\n"
     ]
    }
   ],
   "source": [
    "#128.\n",
    "\n",
    "my_tuple = (10, 20, 30, 40, 20, 50)\n",
    "st = []\n",
    "for i in my_tuple:\n",
    "    st.append(str(i))\n",
    "\n",
    "strr = tuple(st)\n",
    "\n",
    "print(type(strr))"
   ]
  },
  {
   "cell_type": "code",
   "execution_count": 125,
   "id": "2949b00c-06a2-4c82-9f91-8f81396326de",
   "metadata": {},
   "outputs": [
    {
     "name": "stdout",
     "output_type": "stream",
     "text": [
      "<class 'tuple'>\n"
     ]
    }
   ],
   "source": [
    "#129.\n",
    "\n",
    "my_tuple = (\"1\", \"2\", \"3\")\n",
    "st = []\n",
    "for i in my_tuple:\n",
    "    st.append(int(i))\n",
    "\n",
    "strr = tuple(st)\n",
    "\n",
    "print(type(strr))"
   ]
  },
  {
   "cell_type": "code",
   "execution_count": 127,
   "id": "1d364fb8-35b4-43eb-977c-f331e68b5419",
   "metadata": {},
   "outputs": [
    {
     "name": "stdout",
     "output_type": "stream",
     "text": [
      "(10, 20, 30, 40, 20, 50, 10, 20, 30, 40, 20, 50)\n"
     ]
    }
   ],
   "source": [
    "#130.\n",
    "\n",
    "my_tuple = (10, 20, 30, 40, 20, 50)\n",
    "my_tuple1 = (10, 20, 30, 40, 20, 50)\n",
    "print(my_tuple+my_tuple1)"
   ]
  },
  {
   "cell_type": "code",
   "execution_count": 5,
   "id": "04a67c37-188d-4ef4-ba2f-bd1feed8ff55",
   "metadata": {},
   "outputs": [
    {
     "name": "stdout",
     "output_type": "stream",
     "text": [
      "(1, 2, 3, 4, 5, 6)\n"
     ]
    }
   ],
   "source": [
    "#131.\n",
    "\n",
    "nested_tuple = ((1, 2), (3, 4), (5, 6))\n",
    "flat_list = []  \n",
    "\n",
    "for i in nested_tuple:\n",
    "    for j in i:\n",
    "        flat_list.append(j)  \n",
    "\n",
    "flat_tuple = tuple(flat_list)  \n",
    "print(flat_tuple)\n"
   ]
  },
  {
   "cell_type": "code",
   "execution_count": null,
   "id": "21606069-17b4-467d-acdd-85a5d6fbb4cf",
   "metadata": {},
   "outputs": [],
   "source": [
    "#132.\n",
    "\n"
   ]
  },
  {
   "cell_type": "code",
   "execution_count": 16,
   "id": "e20f3c38-8242-44c7-950d-b3df66789c1b",
   "metadata": {},
   "outputs": [
    {
     "name": "stdout",
     "output_type": "stream",
     "text": [
      "False\n"
     ]
    }
   ],
   "source": [
    "#133.\n",
    "\n",
    "def is_pelin(tup):\n",
    "    return tup == tup[::-1]\n",
    "\n",
    "tup1 = (1,2,3,2,2)\n",
    "\n",
    "print(is_pelin(tup1))\n"
   ]
  },
  {
   "cell_type": "code",
   "execution_count": 7,
   "id": "26cc9d93-6552-438b-bfd0-7d57dae51f66",
   "metadata": {},
   "outputs": [
    {
     "name": "stdout",
     "output_type": "stream",
     "text": [
      "(1, 4, 9, 16, 25)\n"
     ]
    }
   ],
   "source": [
    "#134.\n",
    "\n",
    "def sqr(tup):\n",
    "    sr = []  \n",
    "    for i in tup:  \n",
    "        sr.append(i ** 2)  \n",
    "    return tuple(sr)  \n",
    "\n",
    "tup = (1, 2, 3, 4, 5)  \n",
    "print(sqr(tup))  \n"
   ]
  },
  {
   "cell_type": "code",
   "execution_count": 11,
   "id": "c6db9704-680e-4632-9b1b-689a45a2a91d",
   "metadata": {},
   "outputs": [
    {
     "name": "stdout",
     "output_type": "stream",
     "text": [
      "(2, 4, 6)\n"
     ]
    }
   ],
   "source": [
    "#135.\n",
    "\n",
    "def sqr(tup):\n",
    "    eve = []  \n",
    "    for i in tup:  \n",
    "        if i%2 == 0:\n",
    "            eve.append(i)\n",
    "            \n",
    "    return tuple(eve)  \n",
    "\n",
    "tup = (1, 2, 3, 4, 5,6)  \n",
    "print(sqr(tup))  \n"
   ]
  },
  {
   "cell_type": "code",
   "execution_count": 15,
   "id": "104acc16-2afe-477d-8240-9bf774d4fd44",
   "metadata": {},
   "outputs": [
    {
     "name": "stdout",
     "output_type": "stream",
     "text": [
      "(2, 4, 6, 8, 10, 12)\n"
     ]
    }
   ],
   "source": [
    "#136.\n",
    "\n",
    "def sqr(tup):\n",
    "    mul = []  \n",
    "    for i in tup:\n",
    "        mul.append(i*2)\n",
    "        \n",
    "    return tuple(mul)  \n",
    "\n",
    "tup = (1, 2, 3, 4,5,6)  \n",
    "print(sqr(tup))  "
   ]
  },
  {
   "cell_type": "code",
   "execution_count": 26,
   "id": "dae68f6e-5e04-40b4-be7d-3d7b1fa6a42c",
   "metadata": {},
   "outputs": [
    {
     "name": "stdout",
     "output_type": "stream",
     "text": [
      "(35, 20, 90, 83, 14)\n"
     ]
    }
   ],
   "source": [
    "#137.\n",
    "\n",
    "import random \n",
    "\n",
    "random_numbers = []  \n",
    "\n",
    "for i in range(5):  \n",
    "    num = random.randint(1, 100)  \n",
    "    random_numbers.append(num)  \n",
    "\n",
    "random_tuple = tuple(random_numbers) \n",
    "\n",
    "print(random_tuple)  \n",
    "\n"
   ]
  },
  {
   "cell_type": "code",
   "execution_count": 44,
   "id": "00f80696-ccab-47e0-9cfb-f8286bd9f0ae",
   "metadata": {},
   "outputs": [
    {
     "name": "stdout",
     "output_type": "stream",
     "text": [
      "True\n"
     ]
    }
   ],
   "source": [
    "#138.\n",
    "\n",
    "def sqr(tup):\n",
    "    return tup == tuple(sorted(tup))\n",
    "              \n",
    "\n",
    "tup = (1, 2, 3, 5,6)  \n",
    "print(sqr(tup))  \n"
   ]
  },
  {
   "cell_type": "code",
   "execution_count": 56,
   "id": "cf291311-c499-4625-a19b-5c24a211c90f",
   "metadata": {},
   "outputs": [
    {
     "name": "stdout",
     "output_type": "stream",
     "text": [
      "(3, 4, 5, 1, 2)\n"
     ]
    }
   ],
   "source": [
    "#139.\n",
    "\n",
    "def rotate_left(tup, n):\n",
    "    n = n % len(tup)  \n",
    "    return tup[n:] + tup[:n]  \n",
    "\n",
    "tup = (1, 2, 3, 4, 5)\n",
    "n = 2  \n",
    "print(rotate_left(tup, n))  \n"
   ]
  },
  {
   "cell_type": "code",
   "execution_count": 13,
   "id": "faf42531-51a6-4a47-9acd-abc98d250fc2",
   "metadata": {},
   "outputs": [
    {
     "name": "stdout",
     "output_type": "stream",
     "text": [
      "(4, 5, 1, 2, 3)\n"
     ]
    }
   ],
   "source": [
    "#140.\n",
    "\n",
    "def rotate_right(tup, n):\n",
    "    n = n % len(tup)  \n",
    "    return tup[-n:] + tup[:-n]  \n",
    "\n",
    "tup = (1, 2, 3, 4, 5)\n",
    "n = 2 \n",
    "print(rotate_right(tup, n))  \n",
    "\n",
    "\n",
    "\n",
    "\n"
   ]
  },
  {
   "cell_type": "code",
   "execution_count": 16,
   "id": "7f189ae3-f123-4ef0-b067-f355e1c97c3e",
   "metadata": {},
   "outputs": [
    {
     "name": "stdout",
     "output_type": "stream",
     "text": [
      "(0, 1, 1, 2, 3)\n"
     ]
    }
   ],
   "source": [
    " #141.\n",
    "\n",
    "def fib(n):\n",
    "    fibni = [0,1]\n",
    "    for i in range(n-2):\n",
    "        fibni.appned(fibni[-1]+fibni[-2])\n",
    "        return tuple(fibni)\n",
    "\n",
    "fib_tuple = fibonacci_tuple(5)\n",
    "print(fib_tuple)\n"
   ]
  },
  {
   "cell_type": "code",
   "execution_count": 37,
   "id": "405b721a-7dee-4c49-8199-304ed3b4ccf2",
   "metadata": {},
   "outputs": [
    {
     "name": "stdin",
     "output_type": "stream",
     "text": [
      "plase enter a tuple 1 2 3 4 5\n"
     ]
    },
    {
     "name": "stdout",
     "output_type": "stream",
     "text": [
      "(1, 2, 3, 4, 5)\n"
     ]
    },
    {
     "data": {
      "text/plain": [
       "tuple"
      ]
     },
     "execution_count": 37,
     "metadata": {},
     "output_type": "execute_result"
    }
   ],
   "source": [
    "#142.\n",
    "\n",
    "def user(n):\n",
    "    return n\n",
    "\n",
    "inn = input(\"plase enter a tuple\")\n",
    "tip = tuple(map(int,inn.split()))\n",
    "n = tip\n",
    "print(user(n))\n",
    "type(n)"
   ]
  },
  {
   "cell_type": "code",
   "execution_count": 55,
   "id": "71d9b2e7-d031-4389-8a50-648bd2eec2ea",
   "metadata": {},
   "outputs": [
    {
     "name": "stdout",
     "output_type": "stream",
     "text": [
      "<class 'tuple'>\n",
      "(1, 4, 3, 2, 5)\n"
     ]
    }
   ],
   "source": [
    "#143.\n",
    "\n",
    "my_tuple = (1,2,3,4,5)\n",
    "my_tuple1 = list(my_tuple)\n",
    "my_tuple1[1],my_tuple1[3] = my_tuple1[3],my_tuple1[1]\n",
    "my_tuple1 = tuple(my_tuple1)\n",
    "print(type(my_tuple1))\n",
    "print(my_tuple1)"
   ]
  },
  {
   "cell_type": "code",
   "execution_count": 57,
   "id": "c2584ee1-bf18-40b7-8958-78f063f91cfe",
   "metadata": {},
   "outputs": [
    {
     "data": {
      "text/plain": [
       "(5, 4, 3, 2, 1)"
      ]
     },
     "execution_count": 57,
     "metadata": {},
     "output_type": "execute_result"
    }
   ],
   "source": [
    "#144.\n",
    "\n",
    "my_tuple = (1,2,3,4,5)\n",
    "my_tuple[::-1]"
   ]
  },
  {
   "cell_type": "code",
   "execution_count": 61,
   "id": "2cf2000a-3ae3-4e99-baf2-a729d333586b",
   "metadata": {},
   "outputs": [
    {
     "name": "stdout",
     "output_type": "stream",
     "text": [
      "[1, 2, 4, 8, 16]\n"
     ]
    }
   ],
   "source": [
    "#145.\n",
    "\n",
    "def npo(n):\n",
    "    result = []\n",
    "    for i in range(n):\n",
    "        result.append(2**i)\n",
    "    return result\n",
    "\n",
    "n = 5\n",
    "print(npo(n))"
   ]
  },
  {
   "cell_type": "code",
   "execution_count": 71,
   "id": "f44d14b0-5e90-4943-8c05-82b96c1e0320",
   "metadata": {},
   "outputs": [
    {
     "name": "stdout",
     "output_type": "stream",
     "text": [
      "hello\n"
     ]
    }
   ],
   "source": [
    "#146.\n",
    "\n",
    "def npo(n):\n",
    "    return max(n,key = len)\n",
    "n = (\"hello\", \"jiii\",\"mu\",\"l\")\n",
    "print(npo(n))"
   ]
  },
  {
   "cell_type": "code",
   "execution_count": 73,
   "id": "62d0bb9d-5cc0-4212-9511-9f4290eb48d1",
   "metadata": {},
   "outputs": [
    {
     "name": "stdout",
     "output_type": "stream",
     "text": [
      "l\n"
     ]
    }
   ],
   "source": [
    "#147.\n",
    "\n",
    "def npo(n):\n",
    "    return min(n,key = len)\n",
    "n = (\"hello\", \"jiii\",\"mu\",\"l\")\n",
    "print(npo(n))"
   ]
  },
  {
   "cell_type": "code",
   "execution_count": 75,
   "id": "209ff9fc-21bd-49fa-b8fb-41e7dc22696f",
   "metadata": {},
   "outputs": [
    {
     "name": "stdout",
     "output_type": "stream",
     "text": [
      "(1, 3, 6, 10, 15)\n"
     ]
    }
   ],
   "source": [
    "#148.\n",
    "\n",
    "def triangular_numbers(n):\n",
    "    result = []  \n",
    "    for i in range(1, n + 1):\n",
    "        result.append(i * (i + 1) // 2) \n",
    "    return tuple(result)  \n",
    "    \n",
    "print(triangular_numbers(5))\n"
   ]
  },
  {
   "cell_type": "code",
   "execution_count": 77,
   "id": "c6bf9af4-31d4-4e65-865c-df66683fe171",
   "metadata": {},
   "outputs": [],
   "source": [
    "#149.\n",
    "\n"
   ]
  },
  {
   "cell_type": "code",
   "execution_count": 83,
   "id": "3fb3b363-c44e-4491-a047-b4b315740203",
   "metadata": {},
   "outputs": [
    {
     "name": "stdout",
     "output_type": "stream",
     "text": [
      "(1, 0, 1, 0, 1, 0)\n"
     ]
    }
   ],
   "source": [
    "#150.\n",
    "\n",
    "def sqr(tup):\n",
    "    eve = []  \n",
    "    for i in range(tup):  \n",
    "        if i%2 == 0:\n",
    "            eve.append(1)\n",
    "        else:\n",
    "            eve.append(0)\n",
    "            \n",
    "    return tuple(eve)  \n",
    "\n",
    "tup = 6  \n",
    "print(sqr(tup))  "
   ]
  },
  {
   "cell_type": "code",
   "execution_count": 4,
   "id": "30e138b1-a5f0-4644-a97d-f5f465a92160",
   "metadata": {},
   "outputs": [
    {
     "name": "stdout",
     "output_type": "stream",
     "text": [
      "{1, 2, 3, 4, 5}\n"
     ]
    },
    {
     "data": {
      "text/plain": [
       "set"
      ]
     },
     "execution_count": 4,
     "metadata": {},
     "output_type": "execute_result"
    }
   ],
   "source": [
    "#151.\n",
    "\n",
    "stt = {1,2,3,4,5}\n",
    "print(stt)\n",
    "type(stt)"
   ]
  },
  {
   "cell_type": "code",
   "execution_count": 12,
   "id": "efcd626c-e889-4178-89ee-f3a6ab1e6110",
   "metadata": {},
   "outputs": [
    {
     "name": "stdout",
     "output_type": "stream",
     "text": [
      "{1, 2, 3, 4, 5, 6}\n"
     ]
    }
   ],
   "source": [
    "#152.\n",
    "\n",
    "stt = {1,2,3,4,5}\n",
    "stt.add(6)\n",
    "print(stt)"
   ]
  },
  {
   "cell_type": "code",
   "execution_count": 16,
   "id": "4755919a-1aac-4534-8f02-424997345c94",
   "metadata": {},
   "outputs": [
    {
     "name": "stdout",
     "output_type": "stream",
     "text": [
      "{1, 2, 3, 4}\n"
     ]
    }
   ],
   "source": [
    "#153.\n",
    "\n",
    "stt = {1,2,3,4,5}\n",
    "stt.remove(5)\n",
    "print(stt)"
   ]
  },
  {
   "cell_type": "code",
   "execution_count": 22,
   "id": "01d50fda-a762-42f9-9c19-0f3c76c65cbd",
   "metadata": {},
   "outputs": [
    {
     "name": "stdout",
     "output_type": "stream",
     "text": [
      "False\n"
     ]
    }
   ],
   "source": [
    "#154.\n",
    "\n",
    "stt = {1,2,3,4,5}\n",
    "i = 6\n",
    "if i in stt:\n",
    "    print(True)\n",
    "else:\n",
    "    print(False)"
   ]
  },
  {
   "cell_type": "code",
   "execution_count": 9,
   "id": "91b9502f-91f4-43b6-b693-c05bdcdbf4fc",
   "metadata": {},
   "outputs": [
    {
     "name": "stdout",
     "output_type": "stream",
     "text": [
      "5\n"
     ]
    }
   ],
   "source": [
    "#155.\n",
    "\n",
    "def le(stt):\n",
    "    lenn = 0\n",
    "    for i in stt:\n",
    "        lenn+=1\n",
    "    return i\n",
    "stt = {1,2,3,4,5}\n",
    "print(le(stt))\n"
   ]
  },
  {
   "cell_type": "code",
   "execution_count": 11,
   "id": "fdf9e46a-0566-446a-a7fe-36260391968d",
   "metadata": {},
   "outputs": [
    {
     "name": "stdout",
     "output_type": "stream",
     "text": [
      "set()\n"
     ]
    }
   ],
   "source": [
    "#156.\n",
    "\n",
    "stt = {1,2,3,4,5}\n",
    "stt.clear()\n",
    "print(stt)"
   ]
  },
  {
   "cell_type": "code",
   "execution_count": 39,
   "id": "bca53f2f-1d9d-40f5-8863-5512744d6a0d",
   "metadata": {},
   "outputs": [
    {
     "name": "stdout",
     "output_type": "stream",
     "text": [
      "{2, 4, 6, 8, 10}\n"
     ]
    }
   ],
   "source": [
    "#157.\n",
    "\n",
    "evv = set()\n",
    "for i in range(1,11):\n",
    "    if i%2 == 0:\n",
    "        evv.add(i)\n",
    "print(evv)"
   ]
  },
  {
   "cell_type": "code",
   "execution_count": 37,
   "id": "ce389321-6670-491c-8893-6d6299e16228",
   "metadata": {},
   "outputs": [
    {
     "name": "stdout",
     "output_type": "stream",
     "text": [
      "{1, 3, 5, 7, 9}\n"
     ]
    }
   ],
   "source": [
    "#158.\n",
    "\n",
    "evv = set()\n",
    "for i in range(1,10):\n",
    "    if i%2 != 0:\n",
    "        evv.add(i)\n",
    "print(evv)"
   ]
  },
  {
   "cell_type": "code",
   "execution_count": 41,
   "id": "6616097c-1bc4-4025-83e4-0dcc64dd554f",
   "metadata": {},
   "outputs": [
    {
     "name": "stdout",
     "output_type": "stream",
     "text": [
      "{1, 2, 3, 4, 5, 6, 7, 8, 9, 10}\n"
     ]
    }
   ],
   "source": [
    "#159.\n",
    "\n",
    "stt1 = {1, 3, 5, 7, 9}\n",
    "stt2 = {2, 4, 6, 8, 10}\n",
    "\n",
    "union = stt1.union(stt2)\n",
    "print(union)"
   ]
  },
  {
   "cell_type": "code",
   "execution_count": 43,
   "id": "a3c763d2-530d-4328-b071-9c68f2ce3aef",
   "metadata": {},
   "outputs": [
    {
     "name": "stdout",
     "output_type": "stream",
     "text": [
      "set()\n"
     ]
    }
   ],
   "source": [
    "#160.\n",
    "\n",
    "stt1 = {1, 3, 5, 7, 9}\n",
    "stt2 = {2, 4, 6, 8, 10}\n",
    "\n",
    "union = stt1. intersection(stt2)\n",
    "print(union)"
   ]
  },
  {
   "cell_type": "code",
   "execution_count": 45,
   "id": "31832cfc-6c9c-411b-b9e6-a276cba5e0d2",
   "metadata": {},
   "outputs": [
    {
     "name": "stdout",
     "output_type": "stream",
     "text": [
      "{1, 3, 5, 7, 9}\n"
     ]
    }
   ],
   "source": [
    "#161.\n",
    "\n",
    "stt1 = {1, 3, 5, 7, 9}\n",
    "stt2 = {2, 4, 6, 8, 10}\n",
    "\n",
    "union = stt1.difference(stt2)\n",
    "print(union)"
   ]
  },
  {
   "cell_type": "code",
   "execution_count": 47,
   "id": "49a7c500-e67b-4fc8-9efd-127e2531926f",
   "metadata": {},
   "outputs": [
    {
     "name": "stdout",
     "output_type": "stream",
     "text": [
      "False\n"
     ]
    }
   ],
   "source": [
    "#162.\n",
    "\n",
    "stt1 = {1, 3, 5, 7, 9}\n",
    "stt2 = {2, 4, 6, 8, 10}\n",
    "\n",
    "union = stt1.issubset(stt2)\n",
    "print(union)"
   ]
  },
  {
   "cell_type": "code",
   "execution_count": 51,
   "id": "703f004e-6daa-4db9-ad3f-a27009e86574",
   "metadata": {},
   "outputs": [
    {
     "name": "stdout",
     "output_type": "stream",
     "text": [
      "False\n"
     ]
    }
   ],
   "source": [
    "#163.\n",
    "\n",
    "stt1 = {1, 3, 5, 7, 9}\n",
    "stt2 = {2, 4, 6, 8, 10}\n",
    "\n",
    "union = stt1.issuperset(stt2)\n",
    "print(union)"
   ]
  },
  {
   "cell_type": "code",
   "execution_count": 53,
   "id": "3c125884-973c-4109-9e48-a74ab00049aa",
   "metadata": {},
   "outputs": [
    {
     "name": "stdout",
     "output_type": "stream",
     "text": [
      "{1, 2, 3, 4, 5, 6}\n"
     ]
    }
   ],
   "source": [
    "#164.\n",
    "\n",
    "lst = (1,2,3,4,5,6)\n",
    "sett = set(lst)\n",
    "print(sett)"
   ]
  },
  {
   "cell_type": "code",
   "execution_count": 55,
   "id": "27ecbb38-35b9-4aa5-80f6-561e8226a74d",
   "metadata": {},
   "outputs": [
    {
     "name": "stdout",
     "output_type": "stream",
     "text": [
      "[1, 3, 5, 7, 9]\n"
     ]
    }
   ],
   "source": [
    "#165.\n",
    "\n",
    "stt1 = {1, 3, 5, 7, 9}\n",
    "lst  = list(stt1)\n",
    "print(lst)\n"
   ]
  },
  {
   "cell_type": "code",
   "execution_count": 11,
   "id": "65fdd5b6-1666-4bfe-9239-3d10063860cd",
   "metadata": {},
   "outputs": [
    {
     "name": "stdout",
     "output_type": "stream",
     "text": [
      "1\n",
      "{3, 5, 7, 9}\n"
     ]
    }
   ],
   "source": [
    "#166.\n",
    "\n",
    "stt1 = {1, 3, 5, 7, 9}\n",
    "lst  = stt1.pop()\n",
    "print(lst)\n",
    "print(stt1)"
   ]
  },
  {
   "cell_type": "code",
   "execution_count": null,
   "id": "20909d14-58b1-4b4c-8e9f-1d78b6469567",
   "metadata": {},
   "outputs": [],
   "source": [
    "#167.\n",
    "\n",
    "stt1 = {1, 3, 5, 7, 9}\n",
    "lst  = stt1.pop()\n",
    "print(lst)"
   ]
  },
  {
   "cell_type": "code",
   "execution_count": 47,
   "id": "b009fbf2-5556-41a1-a93d-dc4ea30a4204",
   "metadata": {},
   "outputs": [
    {
     "name": "stdout",
     "output_type": "stream",
     "text": [
      "True\n"
     ]
    }
   ],
   "source": [
    "#168.\n",
    "\n",
    "set1 = {1,2,3,4,5}\n",
    "set2 = {6,7,8,9}\n",
    "for i in set1:\n",
    "    if set1&set2 == set():\n",
    "        common = True\n",
    "        break\n",
    "    else:\n",
    "        print(False)\n",
    "if common:\n",
    "    print(True)\n",
    "else:\n",
    "    print(\"No\")\n"
   ]
  },
  {
   "cell_type": "code",
   "execution_count": 49,
   "id": "3f90d11a-f84a-444f-8a7a-65d44c9ddf0d",
   "metadata": {},
   "outputs": [
    {
     "name": "stdout",
     "output_type": "stream",
     "text": [
      "{1, 2, 3, 4, 5, 6, 7, 8, 9}\n"
     ]
    }
   ],
   "source": [
    "#169.\n",
    "\n",
    "set1 = {1,2,3,4,5}\n",
    "set2 = {6,7,8,9}\n",
    "fin = set1.symmetric_difference(set2)\n",
    "print(fin)"
   ]
  },
  {
   "cell_type": "code",
   "execution_count": 59,
   "id": "43e70e6f-6eec-47f4-aff1-d09a6baf56fa",
   "metadata": {},
   "outputs": [
    {
     "name": "stdout",
     "output_type": "stream",
     "text": [
      "{1, 2, 3, 4, 5, 6, 7, 8, 9}\n"
     ]
    }
   ],
   "source": [
    "#170.\n",
    "\n",
    "set1 = {1,2,3,4,5}\n",
    "set2 = {6,7,8,9}\n",
    "fin = set1.union(set2)\n",
    "\n",
    "print(fin)"
   ]
  },
  {
   "cell_type": "code",
   "execution_count": 61,
   "id": "461995cd-b68b-4976-ab20-06640171b7bf",
   "metadata": {},
   "outputs": [
    {
     "name": "stdout",
     "output_type": "stream",
     "text": [
      "{2, 3, 5, 7, 11}\n"
     ]
    }
   ],
   "source": [
    "#171.\n",
    "\n",
    "def is_prime(n):\n",
    "    if n < 2:\n",
    "        return False\n",
    "    for i in range(2, int(n ** 0.5) + 1):\n",
    "        if n % i == 0:\n",
    "            return False\n",
    "    return True\n",
    "\n",
    "prime_numbers = set()\n",
    "num = 2 \n",
    "\n",
    "while len(prime_numbers) < 5:\n",
    "    if is_prime(num):\n",
    "        prime_numbers.add(num)\n",
    "    num += 1\n",
    "\n",
    "print(prime_numbers)\n"
   ]
  },
  {
   "cell_type": "code",
   "execution_count": 63,
   "id": "4ff2e256-66cb-4a54-a705-d65be1a2047f",
   "metadata": {},
   "outputs": [
    {
     "name": "stdout",
     "output_type": "stream",
     "text": [
      "The sets are identical\n"
     ]
    }
   ],
   "source": [
    "#172.\n",
    "\n",
    "set1 = {1, 2, 3, 4}\n",
    "set2 = {4, 3, 2, 1}\n",
    "\n",
    "if set1 == set2:\n",
    "    print(\"The sets are identical\")\n",
    "else:\n",
    "    print(\"The sets are different\")\n"
   ]
  },
  {
   "cell_type": "code",
   "execution_count": 65,
   "id": "4ac9942f-37ad-45b1-82b2-f5930ab26a18",
   "metadata": {},
   "outputs": [
    {
     "data": {
      "text/plain": [
       "frozenset"
      ]
     },
     "execution_count": 65,
     "metadata": {},
     "output_type": "execute_result"
    }
   ],
   "source": [
    "#173.\n",
    "\n",
    "set1 = frozenset({1,2,3,4,5})\n",
    "type(set1)\n"
   ]
  },
  {
   "cell_type": "code",
   "execution_count": 67,
   "id": "d0911464-d054-489e-9081-c3c4d4b71f5b",
   "metadata": {},
   "outputs": [
    {
     "name": "stdout",
     "output_type": "stream",
     "text": [
      "True\n"
     ]
    }
   ],
   "source": [
    "#174.\n",
    "\n",
    "A = {1, 2, 3}\n",
    "B = {4, 5, 6}\n",
    "\n",
    "print(A.isdisjoint(B))  "
   ]
  },
  {
   "cell_type": "code",
   "execution_count": 79,
   "id": "5516d107-d103-4a16-88a2-3ac1eaaa040c",
   "metadata": {},
   "outputs": [
    {
     "name": "stdout",
     "output_type": "stream",
     "text": [
      "{1, 4, 9, 16, 25}\n"
     ]
    }
   ],
   "source": [
    "#175.\n",
    "\n",
    "squr = set()\n",
    "for i in range(1,6):\n",
    "    squr.add(i**2)\n",
    "print(squr)\n"
   ]
  },
  {
   "cell_type": "code",
   "execution_count": 100,
   "id": "7ac2ce4a-e854-44c8-b77e-9a58b5149836",
   "metadata": {
    "scrolled": true
   },
   "outputs": [
    {
     "name": "stdout",
     "output_type": "stream",
     "text": [
      "{1, 3, 5, 7, 9}\n"
     ]
    }
   ],
   "source": [
    "#176.\n",
    "\n",
    "number = {1,2,3,4,5,6,7,8,9}\n",
    "for i in list(number):\n",
    "    if i % 2 ==0:\n",
    "        number.discard(i)\n",
    "\n",
    "print(number)"
   ]
  },
  {
   "cell_type": "code",
   "execution_count": 110,
   "id": "b70dd5e0-1ff0-41a7-8d8b-3a3015d3678a",
   "metadata": {},
   "outputs": [
    {
     "name": "stdout",
     "output_type": "stream",
     "text": [
      "{64, 1, 4, 36, 9, 16, 49, 81, 25}\n"
     ]
    }
   ],
   "source": [
    "#177.\n",
    "\n",
    "number = {1,2,3,4,5,6,7,8,9}\n",
    "mult = {i**2 for i in number}\n",
    "print(mult)\n",
    "    "
   ]
  },
  {
   "cell_type": "code",
   "execution_count": 92,
   "id": "ad5ab474-3980-4498-a941-76d00f5bd578",
   "metadata": {},
   "outputs": [
    {
     "name": "stdout",
     "output_type": "stream",
     "text": [
      "{1, 43, 78, 80, 59}\n"
     ]
    }
   ],
   "source": [
    "#178.\n",
    "\n",
    "import random\n",
    "randomnum = set()\n",
    "while len(randomnum)<5:\n",
    "    randomnum.add(random.randint(1,100))\n",
    "    \n",
    "print(randomnum)\n",
    "\n",
    "\n",
    "    "
   ]
  },
  {
   "cell_type": "code",
   "execution_count": 98,
   "id": "acd8f0fe-45bd-40bf-8025-76db1ed890b5",
   "metadata": {},
   "outputs": [
    {
     "name": "stdout",
     "output_type": "stream",
     "text": [
      "no\n"
     ]
    }
   ],
   "source": [
    "#179.\n",
    "\n",
    "set1 = {1,2,3,4,5,6,7,8,9}\n",
    "if set1 == {}:\n",
    "    print(\"empty\")\n",
    "else:\n",
    "    print(\"no\")"
   ]
  },
  {
   "cell_type": "code",
   "execution_count": 116,
   "id": "8dbf7093-be41-41e2-9732-9fa9b4d08f5c",
   "metadata": {},
   "outputs": [
    {
     "name": "stdout",
     "output_type": "stream",
     "text": [
      "<class 'set'>\n"
     ]
    }
   ],
   "source": [
    "#180.\n",
    "\n",
    "set1 = {frozenset({1,2,3,4,5}),frozenset({6,7,8,9})}\n",
    "print(type(set1))"
   ]
  },
  {
   "cell_type": "code",
   "execution_count": 126,
   "id": "0d8deb82-ca9a-4e96-bb87-666fe197d8fb",
   "metadata": {},
   "outputs": [
    {
     "name": "stdout",
     "output_type": "stream",
     "text": [
      "{1, 2, 3, 4, 6, 7, 8, 9}\n"
     ]
    }
   ],
   "source": [
    "#181.\n",
    "\n",
    "set1 = {1,2,3,4,5,6,7,8,9}\n",
    "set1.discard(5)\n",
    "print(set1)\n"
   ]
  },
  {
   "cell_type": "code",
   "execution_count": 128,
   "id": "4de5e71e-9f4e-44ce-a1fb-94d8e874978f",
   "metadata": {},
   "outputs": [
    {
     "data": {
      "text/plain": [
       "False"
      ]
     },
     "execution_count": 128,
     "metadata": {},
     "output_type": "execute_result"
    }
   ],
   "source": [
    "#182.\n",
    "\n",
    "set1 = {1,2,3,4,5}\n",
    "set2 = {6,7,8,9}\n",
    "set1 == set2\n"
   ]
  },
  {
   "cell_type": "code",
   "execution_count": 130,
   "id": "edc822ea-2613-43f6-a82e-c7fbc7e12851",
   "metadata": {},
   "outputs": [
    {
     "name": "stdout",
     "output_type": "stream",
     "text": [
      "{'h', 'e', 'l', 'o'}\n"
     ]
    }
   ],
   "source": [
    "#183.\n",
    "\n",
    "str1 = \"hello\"\n",
    "set1  = set(str1)\n",
    "print(set1)"
   ]
  },
  {
   "cell_type": "code",
   "execution_count": 134,
   "id": "0446ed78-afb7-4d52-b1b9-21e5f978323c",
   "metadata": {},
   "outputs": [
    {
     "name": "stdout",
     "output_type": "stream",
     "text": [
      "{1, 2, 3, 4, 5}\n"
     ]
    }
   ],
   "source": [
    "#184.\n",
    "\n",
    "set1 = {\"1\",\"2\",\"3\",\"4\",\"5\"}\n",
    "set2 = {int(i) for i in set1}\n",
    "print(set2)"
   ]
  },
  {
   "cell_type": "code",
   "execution_count": 136,
   "id": "083e8f4b-7ffc-468b-9d29-31f86f35cc15",
   "metadata": {},
   "outputs": [
    {
     "name": "stdout",
     "output_type": "stream",
     "text": [
      "{'3', '2', '5', '4', '1'}\n"
     ]
    }
   ],
   "source": [
    "#185.\n",
    "\n",
    "set1 = {1,2,3,4,5}\n",
    "set2 = {str(i) for i in set1}\n",
    "print(set2)"
   ]
  },
  {
   "cell_type": "code",
   "execution_count": 144,
   "id": "5514e616-642d-464e-b73b-d5c250050e5c",
   "metadata": {},
   "outputs": [
    {
     "name": "stdout",
     "output_type": "stream",
     "text": [
      "<class 'set'>\n"
     ]
    }
   ],
   "source": [
    "#186.\n",
    "\n",
    "tuple1 = (1,2,3,4,5)\n",
    "set1 = set(tuple1)\n",
    "print(type(set1))"
   ]
  },
  {
   "cell_type": "code",
   "execution_count": 150,
   "id": "e04a9ed7-1a81-4ddb-a7a4-3d8de7f59d65",
   "metadata": {},
   "outputs": [
    {
     "name": "stdout",
     "output_type": "stream",
     "text": [
      "<class 'tuple'>\n"
     ]
    }
   ],
   "source": [
    "#187.\n",
    "\n",
    "set1 = {1,2,3,4,5}\n",
    "tuple1 = tuple(set1)\n",
    "print(type(tuple1))"
   ]
  },
  {
   "cell_type": "code",
   "execution_count": 156,
   "id": "ba93b672-2ba2-4760-8353-0fb5a8290bbf",
   "metadata": {},
   "outputs": [
    {
     "name": "stdout",
     "output_type": "stream",
     "text": [
      "5\n"
     ]
    }
   ],
   "source": [
    "#188.\n",
    "\n",
    "set1 = {1,2,3,4,5}\n",
    "maxx = max(set1)\n",
    "print(maxx)"
   ]
  },
  {
   "cell_type": "code",
   "execution_count": 160,
   "id": "40969004-0414-4650-89d9-f5cadb337684",
   "metadata": {},
   "outputs": [
    {
     "name": "stdout",
     "output_type": "stream",
     "text": [
      "1\n"
     ]
    }
   ],
   "source": [
    "#189.\n",
    "\n",
    "set1 = {1,2,3,4,5}\n",
    "minn = min(set1)\n",
    "print(minn)"
   ]
  },
  {
   "cell_type": "code",
   "execution_count": 178,
   "id": "7d5875c7-457f-4718-96ae-2c0aa647ef3d",
   "metadata": {},
   "outputs": [
    {
     "name": "stdin",
     "output_type": "stream",
     "text": [
      " 12345\n"
     ]
    },
    {
     "name": "stdout",
     "output_type": "stream",
     "text": [
      "{'3', '2', '5', '4', '1'}\n",
      "<class 'set'>\n"
     ]
    }
   ],
   "source": [
    "#190.\n",
    "\n",
    "usr = set(input())\n",
    "print(usr)\n",
    "print(type(usr))"
   ]
  },
  {
   "cell_type": "code",
   "execution_count": 192,
   "id": "b2c99cf2-0889-4b17-ac3c-61afea0acdf8",
   "metadata": {},
   "outputs": [
    {
     "name": "stdout",
     "output_type": "stream",
     "text": [
      "empty\n"
     ]
    }
   ],
   "source": [
    "#191.\n",
    "\n",
    "set1 = {1,2,3,4,5}\n",
    "set2 = {6,7,8,9}\n",
    "\n",
    "if not set1.intersection(set2):\n",
    "    print(\"empty\")\n",
    "else:\n",
    "    print(\"no\")"
   ]
  },
  {
   "cell_type": "code",
   "execution_count": 194,
   "id": "1cce0c1f-1cc6-4805-b88a-26dad5da220d",
   "metadata": {},
   "outputs": [
    {
     "name": "stdout",
     "output_type": "stream",
     "text": [
      "{0, 1, 2, 3}\n"
     ]
    }
   ],
   "source": [
    "#192.\n",
    "\n",
    "fib_set = set()\n",
    "a, b = 0, 1\n",
    "\n",
    "for _ in range(5):  # Generate the first 5 Fibonacci numbers\n",
    "    fib_set.add(a)\n",
    "    a, b = b, a + b  # Update values\n",
    "\n",
    "print(fib_set)\n"
   ]
  },
  {
   "cell_type": "code",
   "execution_count": 196,
   "id": "a734e0c7-d03d-4108-8591-6aa4bd927046",
   "metadata": {},
   "outputs": [
    {
     "name": "stdout",
     "output_type": "stream",
     "text": [
      "[1, 2, 3, 4, 5, 6, 7]\n"
     ]
    }
   ],
   "source": [
    "#193.\n",
    "numbers = [1, 2, 2, 3, 4, 4, 5, 6, 6, 7]\n",
    "unique_numbers = list(set(numbers))  # Convert list → set → back to list\n",
    "\n",
    "print(unique_numbers)\n"
   ]
  },
  {
   "cell_type": "code",
   "execution_count": 198,
   "id": "8247cba8-b8e0-497c-a574-ce555a536174",
   "metadata": {},
   "outputs": [
    {
     "name": "stdout",
     "output_type": "stream",
     "text": [
      "Both sets have the same elements.\n"
     ]
    }
   ],
   "source": [
    "#194.\n",
    "\n",
    "set1 = {1, 2, 3, 4, 5}\n",
    "set2 = {5, 4, 3, 2, 1}\n",
    "\n",
    "if set1 == set2:\n",
    "    print(\"Both sets have the same elements.\")\n",
    "else:\n",
    "    print(\"The sets are different.\")\n"
   ]
  },
  {
   "cell_type": "code",
   "execution_count": 215,
   "id": "73e2f5c8-7b33-41ad-bd96-101886d65963",
   "metadata": {},
   "outputs": [
    {
     "name": "stdin",
     "output_type": "stream",
     "text": [
      " 5\n"
     ]
    },
    {
     "name": "stdout",
     "output_type": "stream",
     "text": [
      "{1, 2, 4, 8, 16}\n"
     ]
    }
   ],
   "source": [
    "#195.\n",
    "\n",
    "n = int(input())\n",
    "power2 = set()\n",
    "for i in range(n):\n",
    "    power2.add(2**i)\n",
    "print(power2)"
   ]
  },
  {
   "cell_type": "code",
   "execution_count": 217,
   "id": "af022537-af32-4ff0-b7c9-aa4b58f551ad",
   "metadata": {},
   "outputs": [
    {
     "name": "stdout",
     "output_type": "stream",
     "text": [
      "{3, 4, 5}\n"
     ]
    }
   ],
   "source": [
    "#196.\n",
    "\n",
    "my_set = {1, 2, 3, 4, 5}\n",
    "my_list = [3, 4, 5, 6, 7]\n",
    "\n",
    "common_elements = my_set & set(my_list)  \n",
    "\n",
    "print(common_elements)\n"
   ]
  },
  {
   "cell_type": "code",
   "execution_count": 227,
   "id": "0065fafd-7229-4e62-a5cd-18166e950e60",
   "metadata": {},
   "outputs": [
    {
     "name": "stdin",
     "output_type": "stream",
     "text": [
      " 5\n"
     ]
    },
    {
     "name": "stdout",
     "output_type": "stream",
     "text": [
      "{1, 3, 6, 10, 15}\n"
     ]
    }
   ],
   "source": [
    "#197.\n",
    "\n",
    "n = int(input())\n",
    "power2 = set()\n",
    "for i in range(1,n+1):\n",
    "    power2.add(i*(i+1)//2)\n",
    "print(power2)"
   ]
  },
  {
   "cell_type": "code",
   "execution_count": 2,
   "id": "c1057635-3876-4984-8285-ce27f8d724f8",
   "metadata": {},
   "outputs": [
    {
     "name": "stdout",
     "output_type": "stream",
     "text": [
      "True\n"
     ]
    }
   ],
   "source": [
    "#198.\n",
    "A = {1, 2, 3, 4, 5}\n",
    "B = {2, 3}\n",
    "\n",
    "print(B.issubset(A))  \n"
   ]
  },
  {
   "cell_type": "code",
   "execution_count": 18,
   "id": "4489e8c7-ac93-4763-8ee1-ed4121479e31",
   "metadata": {},
   "outputs": [
    {
     "name": "stdout",
     "output_type": "stream",
     "text": [
      "[0, 1, 0, 1, 0, 1, 0, 1, 0, 1]\n"
     ]
    }
   ],
   "source": [
    "#199.\n",
    "\n",
    "n = 10\n",
    "alt = [i%2 for i in range(n)]\n",
    "st = set(alt)\n",
    "print(alt)\n"
   ]
  },
  {
   "cell_type": "code",
   "execution_count": 20,
   "id": "adffc47c-bbe3-47f8-bd4e-eb337bd80ae1",
   "metadata": {},
   "outputs": [
    {
     "name": "stdout",
     "output_type": "stream",
     "text": [
      "{1, 2, 3, 4, 5, 6, 7, 8, 9}\n"
     ]
    }
   ],
   "source": [
    "#200.\n",
    "\n",
    "set1 = {1,2,3}\n",
    "set2 = {4,5,6}\n",
    "set3 = {7,8,9}\n",
    "\n",
    "final = set1.union(set2,set3)\n",
    "\n",
    "print(final)"
   ]
  },
  {
   "cell_type": "code",
   "execution_count": null,
   "id": "2ccdca68-6ad3-4ab8-8a54-98f2739f9739",
   "metadata": {},
   "outputs": [],
   "source": []
  }
 ],
 "metadata": {
  "kernelspec": {
   "display_name": "Python [conda env:base] *",
   "language": "python",
   "name": "conda-base-py"
  },
  "language_info": {
   "codemirror_mode": {
    "name": "ipython",
    "version": 3
   },
   "file_extension": ".py",
   "mimetype": "text/x-python",
   "name": "python",
   "nbconvert_exporter": "python",
   "pygments_lexer": "ipython3",
   "version": "3.12.7"
  }
 },
 "nbformat": 4,
 "nbformat_minor": 5
}
